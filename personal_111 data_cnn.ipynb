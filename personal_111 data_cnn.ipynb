{
  "nbformat": 4,
  "nbformat_minor": 0,
  "metadata": {
    "colab": {
      "name": "(최종) 111_79_41_cnn.ipynb",
      "provenance": [],
      "collapsed_sections": [],
      "include_colab_link": true
    },
    "kernelspec": {
      "name": "python3",
      "display_name": "Python 3"
    },
    "accelerator": "GPU"
  },
  "cells": [
    {
      "cell_type": "markdown",
      "metadata": {
        "id": "view-in-github",
        "colab_type": "text"
      },
      "source": [
        "<a href=\"https://colab.research.google.com/github/Woori60/Auto-star-rating-tagging-method-using-SNS-review-data/blob/master/personal_111%20data_cnn.ipynb\" target=\"_parent\"><img src=\"https://colab.research.google.com/assets/colab-badge.svg\" alt=\"Open In Colab\"/></a>"
      ]
    },
    {
      "cell_type": "code",
      "metadata": {
        "id": "3fRBdfvIlWCG",
        "colab_type": "code",
        "colab": {}
      },
      "source": [
        "# GPU로 바꾸기"
      ],
      "execution_count": 0,
      "outputs": []
    },
    {
      "cell_type": "code",
      "metadata": {
        "id": "GkfBthQjls04",
        "colab_type": "code",
        "outputId": "e1999336-e3b6-4dd8-9fcc-cab0eb711439",
        "colab": {
          "base_uri": "https://localhost:8080/",
          "height": 204
        }
      },
      "source": [
        "import nltk\n",
        "nltk.download('punkt')\n",
        "nltk.download('averaged_perceptron_tagger')\n",
        "nltk.download('wordnet')\n",
        "nltk.download('stopwords')"
      ],
      "execution_count": 0,
      "outputs": [
        {
          "output_type": "stream",
          "text": [
            "[nltk_data] Downloading package punkt to /root/nltk_data...\n",
            "[nltk_data]   Package punkt is already up-to-date!\n",
            "[nltk_data] Downloading package averaged_perceptron_tagger to\n",
            "[nltk_data]     /root/nltk_data...\n",
            "[nltk_data]   Package averaged_perceptron_tagger is already up-to-\n",
            "[nltk_data]       date!\n",
            "[nltk_data] Downloading package wordnet to /root/nltk_data...\n",
            "[nltk_data]   Package wordnet is already up-to-date!\n",
            "[nltk_data] Downloading package stopwords to /root/nltk_data...\n",
            "[nltk_data]   Package stopwords is already up-to-date!\n"
          ],
          "name": "stdout"
        },
        {
          "output_type": "execute_result",
          "data": {
            "text/plain": [
              "True"
            ]
          },
          "metadata": {
            "tags": []
          },
          "execution_count": 2
        }
      ]
    },
    {
      "cell_type": "code",
      "metadata": {
        "id": "mnOdY38DbFjX",
        "colab_type": "code",
        "outputId": "9c77ccbc-4fed-494a-a6e3-96343b9b6706",
        "colab": {
          "base_uri": "https://localhost:8080/",
          "height": 54
        }
      },
      "source": [
        "from google.colab import drive\n",
        "drive.mount('/content/drive')"
      ],
      "execution_count": 0,
      "outputs": [
        {
          "output_type": "stream",
          "text": [
            "Drive already mounted at /content/drive; to attempt to forcibly remount, call drive.mount(\"/content/drive\", force_remount=True).\n"
          ],
          "name": "stdout"
        }
      ]
    },
    {
      "cell_type": "code",
      "metadata": {
        "id": "28ar6pGT-WAr",
        "colab_type": "code",
        "outputId": "c57fe241-46e3-4819-cb95-709f3c002b02",
        "colab": {
          "base_uri": "https://localhost:8080/",
          "height": 54
        }
      },
      "source": [
        "#표제화 X\n",
        "#다시 돌릴 필요 X\n",
        "import json\n",
        "import nltk\n",
        "from nltk.corpus import stopwords\n",
        "from nltk.tokenize import word_tokenize\n",
        "from nltk.stem import WordNetLemmatizer\n",
        "from nltk.tag import pos_tag\n",
        "import re\n",
        "\n",
        "nltk.download('punkt')\n",
        "nltk.download('averaged_perceptron_tagger')\n",
        "nltk.download('wordnet')\n",
        "nltk.download('stopwords')\n",
        "\n",
        "n=WordNetLemmatizer()\n",
        "\n",
        "tx1 = ''\n",
        "tx2 = ''\n",
        "remove_list = ['NN', 'IN', 'DT', 'MD', 'TO', 'PR', 'CC', 'WD', 'WP']\n",
        "\n",
        "with open('/content/drive/My Drive/pretrained/user_review_15.json', 'rt', encoding='UTF-8') as f:\n",
        "    for line in f:\n",
        "        lineobj = json.loads(line)\n",
        "        tx1 = lineobj['text']       \n",
        "        tx3 = tx1.lower()\n",
        "        word_tokens = word_tokenize(tx3)\n",
        "\n",
        "        result = []\n",
        "        words = []\n",
        "        nword = []\n",
        "\n",
        "        tag_l = pos_tag(word_tokens)\n",
        "\n",
        "        for w in tag_l:\n",
        "          if w[1][:2] in remove_list:\n",
        "            continue\n",
        "          else:\n",
        "            words.append(w[0])\n",
        "        #print(words)\n",
        "        \n",
        "        stop_words = set(stopwords.words('english'))\n",
        "        stop_words.update(['\\'re', '\\'d', '\\'t', '\\'ll', '\\'ve', '\\'s','\\'m', '!', '.', ',', '/', '?', '\\\"', '@', '%', '&', '*', '=','(',')','{','}', '-', '--', 'u', '...','$', '#', '*', '@', ':', ';', '[',']','~']) \n",
        "        stop_words.remove('not')\n",
        "        \n",
        "        for w in words:\n",
        "          if w == 'n\\'t':\n",
        "            w = 'not'\n",
        "          if w not in stop_words:\n",
        "            a = re.sub('[^a-zA-Z ]', '', w)\n",
        "            if a != '':\n",
        "              result.append(a) #result에 불용어 제거된 tokens 존재\n",
        "        \n",
        "        newresult=[]\n",
        "        for token in result:\n",
        "          shortword = re.compile(r'\\W*\\b\\w{1,2}\\b')\n",
        "          tk = shortword.sub('', token)\n",
        "          if tk != '':\n",
        "            newresult.append(tk)\n",
        "        #print(newresult, '\\n')\n",
        "\n",
        "        tmpresult=[]\n",
        "        for review in newresult:\n",
        "          if review[:3] != 'www':\n",
        "            tmpresult.append(review)\n",
        "\n",
        "        #print(tmpresult)\n",
        "        newresult = tmpresult\n",
        "\n",
        "        # 길이 14 이상\n",
        "        notremove = ['unpretentious', 'unfortunately', 'approximately', 'complimentary', 'uncomfortable','disappointing']\n",
        "        lenreview = []\n",
        "        for review in newresult:\n",
        "          if len(review) >= 13 and review not in notremove :\n",
        "            continue\n",
        "          else:\n",
        "            lenreview.append(review)\n",
        "\n",
        "        newresult = lenreview\n",
        "\n",
        "        with open('/content/drive/My Drive/remove_only.txt', 'a', encoding='UTF-8') as mf:\n",
        "          mf.write('[\\n')\n",
        "          mf.write('\\n'.join(newresult))\n",
        "          mf.write('\\n]\\n')\n",
        "    \n",
        "f.close()          \n"
      ],
      "execution_count": 0,
      "outputs": [
        {
          "output_type": "execute_result",
          "data": {
            "text/plain": [
              "'\\nimport json\\nimport nltk\\nfrom nltk.corpus import stopwords\\nfrom nltk.tokenize import word_tokenize\\nfrom nltk.stem import WordNetLemmatizer\\nfrom nltk.tag import pos_tag\\nimport re\\n\\nnltk.download(\\'punkt\\')\\nnltk.download(\\'averaged_perceptron_tagger\\')\\nnltk.download(\\'wordnet\\')\\nnltk.download(\\'stopwords\\')\\n\\nn=WordNetLemmatizer()\\n\\ntx1 = \\'\\'\\ntx2 = \\'\\'\\nremove_list = [\\'NN\\', \\'IN\\', \\'DT\\', \\'MD\\', \\'TO\\', \\'PR\\', \\'CC\\', \\'WD\\', \\'WP\\']\\n\\nwith open(\\'/content/drive/My Drive/pretrained/user_review_15.json\\', \\'rt\\', encoding=\\'UTF-8\\') as f:\\n    for line in f:\\n        lineobj = json.loads(line)\\n        tx1 = lineobj[\\'text\\']       \\n        tx3 = tx1.lower()\\n        word_tokens = word_tokenize(tx3)\\n\\n        result = []\\n        words = []\\n        nword = []\\n\\n        tag_l = pos_tag(word_tokens)\\n\\n        for w in tag_l:\\n          if w[1][:2] in remove_list:\\n            continue\\n          else:\\n            words.append(w[0])\\n        #print(words)\\n        \\n        stop_words = set(stopwords.words(\\'english\\'))\\n        stop_words.update([\\'\\'re\\', \\'\\'d\\', \\'\\'t\\', \\'\\'ll\\', \\'\\'ve\\', \\'\\'s\\',\\'\\'m\\', \\'!\\', \\'.\\', \\',\\', \\'/\\', \\'?\\', \\'\"\\', \\'@\\', \\'%\\', \\'&\\', \\'*\\', \\'=\\',\\'(\\',\\')\\',\\'{\\',\\'}\\', \\'-\\', \\'--\\', \\'u\\', \\'...\\',\\'$\\', \\'#\\', \\'*\\', \\'@\\', \\':\\', \\';\\', \\'[\\',\\']\\',\\'~\\']) \\n        stop_words.remove(\\'not\\')\\n        \\n        for w in words:\\n          if w == \\'n\\'t\\':\\n            w = \\'not\\'\\n          if w not in stop_words:\\n            a = re.sub(\\'[^a-zA-Z ]\\', \\'\\', w)\\n            if a != \\'\\':\\n              result.append(a) #result에 불용어 제거된 tokens 존재\\n        \\n        newresult=[]\\n        for token in result:\\n          shortword = re.compile(r\\'\\\\W*\\x08\\\\w{1,2}\\x08\\')\\n          tk = shortword.sub(\\'\\', token)\\n          if tk != \\'\\':\\n            newresult.append(tk)\\n        #print(newresult, \\'\\n\\')\\n\\n        tmpresult=[]\\n        for review in newresult:\\n          if review[:3] != \\'www\\':\\n            tmpresult.append(review)\\n\\n        #print(tmpresult)\\n        newresult = tmpresult\\n\\n        # 길이 14 이상\\n        notremove = [\\'unpretentious\\', \\'unfortunately\\', \\'approximately\\', \\'complimentary\\', \\'uncomfortable\\',\\'disappointing\\']\\n        lenreview = []\\n        for review in newresult:\\n          if len(review) >= 13 and review not in notremove :\\n            continue\\n          else:\\n            lenreview.append(review)\\n\\n        newresult = lenreview\\n\\n        with open(\\'/content/drive/My Drive/remove_only.txt\\', \\'a\\', encoding=\\'UTF-8\\') as mf:\\n          mf.write(\\'[\\n\\')\\n          mf.write(\\'\\n\\'.join(newresult))\\n          mf.write(\\'\\n]\\n\\')\\n    \\nf.close()          \\n'"
            ]
          },
          "metadata": {
            "tags": []
          },
          "execution_count": 4
        }
      ]
    },
    {
      "cell_type": "code",
      "metadata": {
        "id": "gzMKvl7HHxvr",
        "colab_type": "code",
        "outputId": "f5574bfa-05ec-47f2-8917-f44136ca5e81",
        "colab": {
          "base_uri": "https://localhost:8080/",
          "height": 114
        }
      },
      "source": [
        "# 데이터 준비\n",
        "import re\n",
        "import nltk\n",
        "from gensim.models import Word2Vec\n",
        "import os\n",
        "import numpy as np\n",
        "import json\n",
        "from nltk.tokenize import word_tokenize\n",
        "from keras.preprocessing.text import Tokenizer\n",
        "from keras.preprocessing.sequence import pad_sequences\n",
        "from keras.utils import np_utils\n",
        "from keras.optimizers import SGD\n",
        "\n",
        "# token list 읽기 - 전체(이후에 분할)\n",
        "from keras_preprocessing.text import Tokenizer\n",
        "\n",
        "\n",
        "# label 준비(1, 5)\n",
        "labelAll = []\n",
        "with open('/content/drive/My Drive/pretrained/user_review_15.json', 'rt', encoding='UTF-8') as f:\n",
        "    for line in f:\n",
        "        lineobj = json.loads(line)\n",
        "        star = lineobj['stars']\n",
        "        if star == 1 :\n",
        "          labelAll.append(0)\n",
        "        elif star == 5:\n",
        "          labelAll.append(1)\n",
        "\n",
        "f.close()\n",
        "label = np.array(labelAll)\n",
        "label = np_utils.to_categorical(label, num_classes=2)\n",
        "\n",
        "# data 준비\n",
        "result = []\n",
        "dataAll2 = []\n",
        "with open('/content/drive/My Drive/remove_only.txt', 'rt', encoding='UTF-8') as mf:\n",
        "  while True:\n",
        "    temp = mf.readline()\n",
        "    if not temp:\n",
        "      break\n",
        "    if temp == '[\\n':\n",
        "      continue\n",
        "    elif temp == ']\\n':\n",
        "      dataAll2.append(result)\n",
        "      result = []\n",
        "      continue\n",
        "    else:\n",
        "      l = len(temp)\n",
        "      word = temp[0:l-1]\n",
        "      result.append(word)\n",
        "\n",
        "mf.close()\n",
        "\n",
        "print('label size : ', len(label))\n",
        "print('data size : ', len(dataAll2))"
      ],
      "execution_count": 0,
      "outputs": [
        {
          "output_type": "stream",
          "text": [
            "Using TensorFlow backend.\n"
          ],
          "name": "stderr"
        },
        {
          "output_type": "display_data",
          "data": {
            "text/html": [
              "<p style=\"color: red;\">\n",
              "The default version of TensorFlow in Colab will soon switch to TensorFlow 2.x.<br>\n",
              "We recommend you <a href=\"https://www.tensorflow.org/guide/migrate\" target=\"_blank\">upgrade</a> now \n",
              "or ensure your notebook will continue to use TensorFlow 1.x via the <code>%tensorflow_version 1.x</code> magic:\n",
              "<a href=\"https://colab.research.google.com/notebooks/tensorflow_version.ipynb\" target=\"_blank\">more info</a>.</p>\n"
            ],
            "text/plain": [
              "<IPython.core.display.HTML object>"
            ]
          },
          "metadata": {
            "tags": []
          }
        },
        {
          "output_type": "stream",
          "text": [
            "label size :  111\n",
            "data size :  111\n"
          ],
          "name": "stdout"
        }
      ]
    },
    {
      "cell_type": "code",
      "metadata": {
        "id": "VBRxU0Bs-4xM",
        "colab_type": "code",
        "outputId": "edaa8160-f342-422e-f133-5c5464a80abb",
        "colab": {
          "base_uri": "https://localhost:8080/",
          "height": 54
        }
      },
      "source": [
        "#다시 돌릴 필요X\n",
        "\n",
        "#word2vec 모델 생성\n",
        "embedding_dim = 300\n",
        "\n",
        "#train word2vec model\n",
        "embedding_model = Word2Vec(sentences=dataAll2, size=embedding_dim, min_count=2, window=4, iter=200, workers=4, sg=1) #size = embedding_dim = 80\n",
        "\n",
        "# load model\n",
        "filename = '/content/drive/My Drive/pretrained/GoogleNews-vectors-negative300.bin'\n",
        "embedding_model.intersect_word2vec_format(filename, binary=True)\n",
        "\n",
        "# save model\n",
        "filename = '/content/drive/My Drive/w2v_model_intersect_remove_15_final.txt'\n",
        "embedding_model.wv.save_word2vec_format(filename, binary=False)\n"
      ],
      "execution_count": 0,
      "outputs": [
        {
          "output_type": "execute_result",
          "data": {
            "text/plain": [
              "\"\\n#word2vec 모델 생성\\nembedding_dim = 300\\n\\n#train word2vec model\\nembedding_model = Word2Vec(sentences=dataAll2, size=embedding_dim, min_count=2, window=4, iter=200, workers=4, sg=1) #size = embedding_dim = 80\\n\\n# load model\\nfilename = '/content/drive/My Drive/pretrained/GoogleNews-vectors-negative300.bin'\\nembedding_model.intersect_word2vec_format(filename, binary=True)\\n\\n# save model\\nfilename = '/content/drive/My Drive/w2v_model_intersect_remove_15_final.txt'\\nembedding_model.wv.save_word2vec_format(filename, binary=False)\\n\""
            ]
          },
          "metadata": {
            "tags": []
          },
          "execution_count": 6
        }
      ]
    },
    {
      "cell_type": "code",
      "metadata": {
        "id": "2odEfwfn-8ZC",
        "colab_type": "code",
        "colab": {}
      },
      "source": [
        "# load pretrained model\n",
        "embeddings_index = {}\n",
        "file = open(os.path.join('', '/content/drive/My Drive/w2v_model_intersect_remove_15_final.txt'), encoding=\"utf-8\")\n",
        "for line in file:\n",
        "  values = line.split()\n",
        "  word = values[0]\n",
        "  coefs = np.asarray(values[1:])\n",
        "  embeddings_index[word] = coefs\n",
        "file.close()"
      ],
      "execution_count": 0,
      "outputs": []
    },
    {
      "cell_type": "code",
      "metadata": {
        "id": "CzvIsWSYNf7w",
        "colab_type": "code",
        "outputId": "d7a3ab72-7e0f-4db7-9904-ac001df13a4f",
        "colab": {
          "base_uri": "https://localhost:8080/",
          "height": 136
        }
      },
      "source": [
        "# 전체 데이터 학습(6)/검증(1)/테스트(3)\n",
        "from sklearn.model_selection import StratifiedShuffleSplit\n",
        "from sklearn.model_selection import train_test_split\n",
        "import keras\n",
        "\n",
        "import numpy as np\n",
        "\n",
        "# train_test_split\n",
        "# Stratified하게 트레이닝셋과 테스트셋으로 나눈다(1회만 실시)\n",
        "from sklearn.model_selection import train_test_split\n",
        "seed = 777\n",
        "dataAll2 = np.array(dataAll2)\n",
        "train_index, test_index = train_test_split(np.array(range(dataAll2.shape[0])), shuffle=True, stratify=label, test_size=0.3, random_state=seed)\n",
        "\n",
        "x_train, X_test = dataAll2[train_index], dataAll2[test_index]\n",
        "y_train, Y_test = label[train_index], label[test_index]\n",
        "print(\"-\"*40)\n",
        "\n",
        "print('테스트 : ', len(X_test), ', ', len(Y_test))\n",
        "\n",
        "train_index, valid_index = train_test_split(np.array(range(x_train.shape[0])), shuffle=True, stratify=y_train, test_size=0.1, random_state=seed)\n",
        "\n",
        "X_train, X_valid = x_train[train_index], x_train[valid_index]\n",
        "Y_train, Y_valid = y_train[train_index], y_train[valid_index]\n",
        "print(\"-\"*40)\n",
        "print('학습 : ', len(X_train), ', ', len(Y_train))\n",
        "print(\"-\"*40)\n",
        "print('검증 : ', len(X_valid), ', ', len(Y_valid))\n",
        "print(\"-\"*40)\n"
      ],
      "execution_count": 0,
      "outputs": [
        {
          "output_type": "stream",
          "text": [
            "----------------------------------------\n",
            "테스트 :  34 ,  34\n",
            "----------------------------------------\n",
            "학습 :  69 ,  69\n",
            "----------------------------------------\n",
            "검증 :  8 ,  8\n",
            "----------------------------------------\n"
          ],
          "name": "stdout"
        }
      ]
    },
    {
      "cell_type": "code",
      "metadata": {
        "id": "JlNgkz_iL6-k",
        "colab_type": "code",
        "outputId": "6c0ab691-89bc-4e54-a3e4-eadd059444c4",
        "colab": {
          "base_uri": "https://localhost:8080/",
          "height": 34
        }
      },
      "source": [
        "# max_length - train data\n",
        "train_sum=0\n",
        "train_count = len(X_train)\n",
        "for sent in X_train :\n",
        "  train_sum = train_sum+len(sent)\n",
        "\n",
        "test_count = len(X_test)\n",
        "for sent in X_test :\n",
        "  train_sum = train_sum+len(sent)\n",
        "\n",
        "valid_count = len(X_valid)\n",
        "for sent in X_test :\n",
        "  train_sum = train_sum+len(sent)\n",
        "\n",
        "MAX = train_sum / (train_count + test_count + valid_count)\n",
        "\n",
        "MAX = int(MAX)\n",
        "print(MAX)"
      ],
      "execution_count": 0,
      "outputs": [
        {
          "output_type": "stream",
          "text": [
            "49\n"
          ],
          "name": "stdout"
        }
      ]
    },
    {
      "cell_type": "code",
      "metadata": {
        "id": "3Lbq4v75OcC3",
        "colab_type": "code",
        "colab": {}
      },
      "source": [
        "tmp_train=[]\n",
        "for review in X_train:\n",
        "  if len(review) > 49:\n",
        "    tmp_train.append(review[0:50])\n",
        "  else:\n",
        "    tmp_train.append(review)\n",
        "X_train = tmp_train\n",
        "\n",
        "tmp_test=[]\n",
        "for review in X_test:\n",
        "  if len(review) > 49:\n",
        "    tmp_test.append(review[0:50])\n",
        "  else:\n",
        "    tmp_test.append(review)\n",
        "X_test = tmp_test\n",
        "\n",
        "\n",
        "tmp_valid=[]\n",
        "for review in X_valid:\n",
        "  if len(review) > 49:\n",
        "    tmp_valid.append(review[0:50])\n",
        "  else:\n",
        "    tmp_valid.append(review)\n",
        "X_valid = tmp_valid"
      ],
      "execution_count": 0,
      "outputs": []
    },
    {
      "cell_type": "code",
      "metadata": {
        "id": "JdvSXtfMTeGA",
        "colab_type": "code",
        "outputId": "624d58ba-6832-41d5-bf2f-0888e8308a3a",
        "colab": {
          "base_uri": "https://localhost:8080/",
          "height": 68
        }
      },
      "source": [
        "print(len(X_train))\n",
        "print(len(X_test))\n",
        "print(len(X_valid))"
      ],
      "execution_count": 0,
      "outputs": [
        {
          "output_type": "stream",
          "text": [
            "69\n",
            "34\n",
            "8\n"
          ],
          "name": "stdout"
        }
      ]
    },
    {
      "cell_type": "code",
      "metadata": {
        "id": "6FloYtgbY7QK",
        "colab_type": "code",
        "outputId": "5c7cd214-05a6-43b8-a760-9e83518e8ef7",
        "colab": {
          "base_uri": "https://localhost:8080/",
          "height": 221
        }
      },
      "source": [
        "\n",
        "#########################################\n",
        "tokenizer_obj = Tokenizer()\n",
        "tokenizer_obj.fit_on_texts(dataAll2)\n",
        "sequences_obj = tokenizer_obj.texts_to_sequences(dataAll2)\n",
        "word_index = tokenizer_obj.word_index\n",
        "num_words = len(word_index)+1\n",
        "embedding_dim = 300\n",
        "embedding_matrix = np.zeros((num_words, embedding_dim))\n",
        "for word, i in word_index.items():\n",
        "  if i > num_words:\n",
        "    continue\n",
        "  embedding_vector = embeddings_index.get(word)\n",
        "  if embedding_vector is not None :\n",
        "    # words not found in embedding index will be all-zeros\n",
        "    embedding_matrix[i] = embedding_vector\n",
        "##########################################\n",
        "\n",
        "\n",
        "# vec - train data\n",
        "tokenizer_obj_train = Tokenizer()\n",
        "tokenizer_obj_train.fit_on_texts(X_train)\n",
        "sequences_train = tokenizer_obj_train.texts_to_sequences(X_train)\n",
        "\n",
        "# vec - test data\n",
        "tokenizer_obj_test = Tokenizer()\n",
        "tokenizer_obj_test.fit_on_texts(X_test)\n",
        "sequences_test = tokenizer_obj_test.texts_to_sequences(X_test)\n",
        "\n",
        "# vec - valid data\n",
        "tokenizer_obj_valid = Tokenizer()\n",
        "tokenizer_obj_valid.fit_on_texts(X_valid)\n",
        "sequences_valid = tokenizer_obj_valid.texts_to_sequences(X_valid)\n",
        "\n",
        "\n",
        "# pad_sequences_train\n",
        "word_index_train = tokenizer_obj_train.word_index\n",
        "print('Found %s unique tokens.' % len(word_index_train))\n",
        "\n",
        "review_pad_train = pad_sequences(sequences_train, maxlen=MAX, padding = 'post')         # test data max가 더 커서 그 값으로 train, test 둘다 패딩\n",
        "sentiment_train = Y_train\n",
        "\n",
        "print('Shape of review tensor:', review_pad_train.shape)\n",
        "print('Shape of sentiment tensor:', sentiment_train.shape)\n",
        "\n",
        "num_words_train = len(word_index_train)+1\n",
        "embedding_dim = 300\n",
        "embedding_matrix_train = np.zeros((num_words_train, embedding_dim))\n",
        "\n",
        "for word, i in word_index_train.items():\n",
        "  if i > num_words_train:\n",
        "    continue\n",
        "  embedding_vector = embeddings_index.get(word)\n",
        "  if embedding_vector is not None :\n",
        "    # words not found in embedding index will be all-zeros\n",
        "    embedding_matrix_train[i] = embedding_vector\n",
        "\n",
        "print('train data word size : ',num_words_train)\n",
        "\n",
        "# pad_sequences_test\n",
        "word_index_test = tokenizer_obj_test.word_index\n",
        "print('Found %s unique tokens(test).' % len(word_index_test))\n",
        "\n",
        "review_pad_test = pad_sequences(sequences_test, maxlen=MAX, padding = 'post')   # test data max가 더 커서 그 값으로 train, test 둘다 패딩\n",
        "sentiment_test = Y_test\n",
        "\n",
        "print('Shape of review tensor(test):', review_pad_test.shape)\n",
        "print('Shape of sentiment tensor(test):', sentiment_test.shape)\n",
        "\n",
        "num_words_test = len(word_index_test)+1\n",
        "embedding_matrix_test = np.zeros((num_words_test, embedding_dim))\n",
        "\n",
        "for word, i in word_index_test.items():\n",
        "  if i > num_words_test:\n",
        "    continue\n",
        "  embedding_vector = embeddings_index.get(word)\n",
        "  if embedding_vector is not None :\n",
        "    # words not found in embedding index will be all-zeros\n",
        "    embedding_matrix_test[i] = embedding_vector\n",
        "\n",
        "print('test data word size : ',num_words_test)\n",
        "\n",
        "# pad_sequences_valid\n",
        "word_index_valid = tokenizer_obj_valid.word_index\n",
        "print('Found %s unique tokens(valid).' % len(word_index_valid))\n",
        "\n",
        "review_pad_valid = pad_sequences(sequences_valid, maxlen=MAX, padding = 'post')   # test data max가 더 커서 그 값으로 train, test 둘다 패딩\n",
        "sentiment_valid = Y_valid\n",
        "\n",
        "print('Shape of review tensor(valid):', review_pad_valid.shape)\n",
        "print('Shape of sentiment tensor(valid):', sentiment_valid.shape)\n",
        "\n",
        "num_words_valid = len(word_index_valid)+1\n",
        "embedding_matrix_valid = np.zeros((num_words_valid, embedding_dim))\n",
        "\n",
        "for word, i in word_index_valid.items():\n",
        "  if i > num_words_valid:\n",
        "    continue\n",
        "  embedding_vector = embeddings_index.get(word)\n",
        "  if embedding_vector is not None :\n",
        "    # words not found in embedding index will be all-zeros\n",
        "    embedding_matrix_valid[i] = embedding_vector\n",
        "\n",
        "print('valid data word size : ',num_words_valid)"
      ],
      "execution_count": 0,
      "outputs": [
        {
          "output_type": "stream",
          "text": [
            "Found 942 unique tokens.\n",
            "Shape of review tensor: (69, 49)\n",
            "Shape of sentiment tensor: (69, 2)\n",
            "train data word size :  943\n",
            "Found 535 unique tokens(test).\n",
            "Shape of review tensor(test): (34, 49)\n",
            "Shape of sentiment tensor(test): (34, 2)\n",
            "test data word size :  536\n",
            "Found 195 unique tokens(valid).\n",
            "Shape of review tensor(valid): (8, 49)\n",
            "Shape of sentiment tensor(valid): (8, 2)\n",
            "valid data word size :  196\n"
          ],
          "name": "stdout"
        }
      ]
    },
    {
      "cell_type": "code",
      "metadata": {
        "id": "pScq85P8Jjji",
        "colab_type": "code",
        "outputId": "9be9132a-b15e-4b1d-ea02-973382332e8c",
        "colab": {
          "base_uri": "https://localhost:8080/",
          "height": 904
        }
      },
      "source": [
        "### code part3 - 훈련 모델\n",
        "\n",
        "from keras.models import Sequential\n",
        "from keras.layers import Dense, Embedding\n",
        "from keras.layers import Dense, Activation, Flatten, Dropout, Conv1D, MaxPooling1D\n",
        "from keras.layers.embeddings import Embedding\n",
        "from keras.initializers import Constant\n",
        "\n",
        "#model.reset_states()\n",
        "# define model\n",
        "# In the below code, the only change from previous model is using the embedding_matrix as input to the Embedding layer and setting trainable = False, since the embedding is already learned.\n",
        "\n",
        "model = Sequential()\n",
        "model.add(Embedding(num_words, embedding_dim, embeddings_initializer=Constant(embedding_matrix), input_length=MAX, trainable = False))    #test data max length로 맞춤\n",
        "model.add(Conv1D(filters=16, kernel_size=3, activation='relu'))\n",
        "model.add(MaxPooling1D(pool_size=2))\n",
        "model.add(Conv1D(filters=16 , kernel_size=2, activation='relu'))\n",
        "model.add(MaxPooling1D(pool_size=2))\n",
        "model.add(Conv1D(filters=32, kernel_size=2, activation='relu'))\n",
        "model.add(Dropout(0.4))\n",
        "model.add(Flatten())\n",
        "model.add(Dense(128, activation='relu'))\n",
        "model.add(Dense(64, activation='relu'))\n",
        "model.add(Dense(2, activation='sigmoid'))\n",
        "\n",
        "# try using different optimizers and different optimizer configs\n",
        "sgd = SGD(lr=0.01, nesterov=True, decay=1e-6, momentum=0.9)\n",
        "model.compile(loss='binary_crossentropy', optimizer='adam', metrics=['accuracy'])\n",
        "\n",
        "print(model.summary())"
      ],
      "execution_count": 0,
      "outputs": [
        {
          "output_type": "stream",
          "text": [
            "WARNING:tensorflow:From /usr/local/lib/python3.6/dist-packages/keras/backend/tensorflow_backend.py:66: The name tf.get_default_graph is deprecated. Please use tf.compat.v1.get_default_graph instead.\n",
            "\n",
            "WARNING:tensorflow:From /usr/local/lib/python3.6/dist-packages/keras/backend/tensorflow_backend.py:541: The name tf.placeholder is deprecated. Please use tf.compat.v1.placeholder instead.\n",
            "\n",
            "WARNING:tensorflow:From /usr/local/lib/python3.6/dist-packages/keras/backend/tensorflow_backend.py:4432: The name tf.random_uniform is deprecated. Please use tf.random.uniform instead.\n",
            "\n",
            "WARNING:tensorflow:From /usr/local/lib/python3.6/dist-packages/keras/backend/tensorflow_backend.py:4267: The name tf.nn.max_pool is deprecated. Please use tf.nn.max_pool2d instead.\n",
            "\n",
            "WARNING:tensorflow:From /usr/local/lib/python3.6/dist-packages/keras/backend/tensorflow_backend.py:148: The name tf.placeholder_with_default is deprecated. Please use tf.compat.v1.placeholder_with_default instead.\n",
            "\n",
            "WARNING:tensorflow:From /usr/local/lib/python3.6/dist-packages/keras/backend/tensorflow_backend.py:3733: calling dropout (from tensorflow.python.ops.nn_ops) with keep_prob is deprecated and will be removed in a future version.\n",
            "Instructions for updating:\n",
            "Please use `rate` instead of `keep_prob`. Rate should be set to `rate = 1 - keep_prob`.\n",
            "WARNING:tensorflow:From /usr/local/lib/python3.6/dist-packages/keras/optimizers.py:793: The name tf.train.Optimizer is deprecated. Please use tf.compat.v1.train.Optimizer instead.\n",
            "\n",
            "WARNING:tensorflow:From /usr/local/lib/python3.6/dist-packages/keras/backend/tensorflow_backend.py:3657: The name tf.log is deprecated. Please use tf.math.log instead.\n",
            "\n",
            "WARNING:tensorflow:From /usr/local/lib/python3.6/dist-packages/tensorflow_core/python/ops/nn_impl.py:183: where (from tensorflow.python.ops.array_ops) is deprecated and will be removed in a future version.\n",
            "Instructions for updating:\n",
            "Use tf.where in 2.0, which has the same broadcast rule as np.where\n",
            "Model: \"sequential_1\"\n",
            "_________________________________________________________________\n",
            "Layer (type)                 Output Shape              Param #   \n",
            "=================================================================\n",
            "embedding_1 (Embedding)      (None, 49, 300)           402300    \n",
            "_________________________________________________________________\n",
            "conv1d_1 (Conv1D)            (None, 47, 16)            14416     \n",
            "_________________________________________________________________\n",
            "max_pooling1d_1 (MaxPooling1 (None, 23, 16)            0         \n",
            "_________________________________________________________________\n",
            "conv1d_2 (Conv1D)            (None, 22, 16)            528       \n",
            "_________________________________________________________________\n",
            "max_pooling1d_2 (MaxPooling1 (None, 11, 16)            0         \n",
            "_________________________________________________________________\n",
            "conv1d_3 (Conv1D)            (None, 10, 32)            1056      \n",
            "_________________________________________________________________\n",
            "dropout_1 (Dropout)          (None, 10, 32)            0         \n",
            "_________________________________________________________________\n",
            "flatten_1 (Flatten)          (None, 320)               0         \n",
            "_________________________________________________________________\n",
            "dense_1 (Dense)              (None, 128)               41088     \n",
            "_________________________________________________________________\n",
            "dense_2 (Dense)              (None, 64)                8256      \n",
            "_________________________________________________________________\n",
            "dense_3 (Dense)              (None, 2)                 130       \n",
            "=================================================================\n",
            "Total params: 467,774\n",
            "Trainable params: 467,774\n",
            "Non-trainable params: 0\n",
            "_________________________________________________________________\n",
            "None\n"
          ],
          "name": "stdout"
        }
      ]
    },
    {
      "cell_type": "code",
      "metadata": {
        "id": "QA6b4dsaD0lZ",
        "colab_type": "code",
        "outputId": "bfb6bf39-2121-4ac6-cce9-d7e411e8cf21",
        "colab": {
          "base_uri": "https://localhost:8080/",
          "height": 1000
        }
      },
      "source": [
        "result = model.fit(review_pad_train, sentiment_train, batch_size=6, epochs=30, validation_data=(review_pad_valid, sentiment_valid), verbose=1)"
      ],
      "execution_count": 0,
      "outputs": [
        {
          "output_type": "stream",
          "text": [
            "WARNING:tensorflow:From /usr/local/lib/python3.6/dist-packages/keras/backend/tensorflow_backend.py:1033: The name tf.assign_add is deprecated. Please use tf.compat.v1.assign_add instead.\n",
            "\n",
            "WARNING:tensorflow:From /usr/local/lib/python3.6/dist-packages/keras/backend/tensorflow_backend.py:1020: The name tf.assign is deprecated. Please use tf.compat.v1.assign instead.\n",
            "\n",
            "WARNING:tensorflow:From /usr/local/lib/python3.6/dist-packages/keras/backend/tensorflow_backend.py:3005: The name tf.Session is deprecated. Please use tf.compat.v1.Session instead.\n",
            "\n",
            "Train on 69 samples, validate on 8 samples\n",
            "Epoch 1/30\n",
            "WARNING:tensorflow:From /usr/local/lib/python3.6/dist-packages/keras/backend/tensorflow_backend.py:190: The name tf.get_default_session is deprecated. Please use tf.compat.v1.get_default_session instead.\n",
            "\n",
            "WARNING:tensorflow:From /usr/local/lib/python3.6/dist-packages/keras/backend/tensorflow_backend.py:197: The name tf.ConfigProto is deprecated. Please use tf.compat.v1.ConfigProto instead.\n",
            "\n",
            "WARNING:tensorflow:From /usr/local/lib/python3.6/dist-packages/keras/backend/tensorflow_backend.py:207: The name tf.global_variables is deprecated. Please use tf.compat.v1.global_variables instead.\n",
            "\n",
            "WARNING:tensorflow:From /usr/local/lib/python3.6/dist-packages/keras/backend/tensorflow_backend.py:216: The name tf.is_variable_initialized is deprecated. Please use tf.compat.v1.is_variable_initialized instead.\n",
            "\n",
            "WARNING:tensorflow:From /usr/local/lib/python3.6/dist-packages/keras/backend/tensorflow_backend.py:223: The name tf.variables_initializer is deprecated. Please use tf.compat.v1.variables_initializer instead.\n",
            "\n",
            "69/69 [==============================] - 2s 35ms/step - loss: 0.6976 - acc: 0.4638 - val_loss: 0.6932 - val_acc: 0.5000\n",
            "Epoch 2/30\n",
            "69/69 [==============================] - 0s 2ms/step - loss: 0.6835 - acc: 0.6232 - val_loss: 0.6976 - val_acc: 0.5000\n",
            "Epoch 3/30\n",
            "69/69 [==============================] - 0s 2ms/step - loss: 0.6505 - acc: 0.6667 - val_loss: 0.7072 - val_acc: 0.4375\n",
            "Epoch 4/30\n",
            "69/69 [==============================] - 0s 2ms/step - loss: 0.5748 - acc: 0.8623 - val_loss: 0.7225 - val_acc: 0.4375\n",
            "Epoch 5/30\n",
            "69/69 [==============================] - 0s 2ms/step - loss: 0.3496 - acc: 0.9565 - val_loss: 0.7997 - val_acc: 0.5000\n",
            "Epoch 6/30\n",
            "69/69 [==============================] - 0s 2ms/step - loss: 0.1284 - acc: 0.9855 - val_loss: 0.9579 - val_acc: 0.5000\n",
            "Epoch 7/30\n",
            "69/69 [==============================] - 0s 2ms/step - loss: 0.0580 - acc: 0.9855 - val_loss: 1.4566 - val_acc: 0.5000\n",
            "Epoch 8/30\n",
            "69/69 [==============================] - 0s 2ms/step - loss: 0.0172 - acc: 1.0000 - val_loss: 1.1807 - val_acc: 0.6250\n",
            "Epoch 9/30\n",
            "69/69 [==============================] - 0s 2ms/step - loss: 0.0073 - acc: 1.0000 - val_loss: 1.4178 - val_acc: 0.6250\n",
            "Epoch 10/30\n",
            "69/69 [==============================] - 0s 2ms/step - loss: 0.0286 - acc: 0.9855 - val_loss: 1.2582 - val_acc: 0.6250\n",
            "Epoch 11/30\n",
            "69/69 [==============================] - 0s 2ms/step - loss: 0.0035 - acc: 1.0000 - val_loss: 1.7548 - val_acc: 0.5000\n",
            "Epoch 12/30\n",
            "69/69 [==============================] - 0s 2ms/step - loss: 0.0067 - acc: 1.0000 - val_loss: 1.7333 - val_acc: 0.5000\n",
            "Epoch 13/30\n",
            "69/69 [==============================] - 0s 2ms/step - loss: 0.0027 - acc: 1.0000 - val_loss: 1.4963 - val_acc: 0.5000\n",
            "Epoch 14/30\n",
            "69/69 [==============================] - 0s 2ms/step - loss: 0.0011 - acc: 1.0000 - val_loss: 1.4194 - val_acc: 0.4375\n",
            "Epoch 15/30\n",
            "69/69 [==============================] - 0s 2ms/step - loss: 5.8132e-04 - acc: 1.0000 - val_loss: 1.4004 - val_acc: 0.4375\n",
            "Epoch 16/30\n",
            "69/69 [==============================] - 0s 2ms/step - loss: 5.2069e-04 - acc: 1.0000 - val_loss: 1.3962 - val_acc: 0.5000\n",
            "Epoch 17/30\n",
            "69/69 [==============================] - 0s 1ms/step - loss: 8.5674e-04 - acc: 1.0000 - val_loss: 1.4746 - val_acc: 0.3750\n",
            "Epoch 18/30\n",
            "69/69 [==============================] - 0s 2ms/step - loss: 8.7385e-04 - acc: 1.0000 - val_loss: 1.5448 - val_acc: 0.5000\n",
            "Epoch 19/30\n",
            "69/69 [==============================] - 0s 2ms/step - loss: 4.0303e-04 - acc: 1.0000 - val_loss: 1.5170 - val_acc: 0.3750\n",
            "Epoch 20/30\n",
            "69/69 [==============================] - 0s 1ms/step - loss: 0.0015 - acc: 1.0000 - val_loss: 1.8484 - val_acc: 0.5000\n",
            "Epoch 21/30\n",
            "69/69 [==============================] - 0s 1ms/step - loss: 4.0193e-04 - acc: 1.0000 - val_loss: 1.9763 - val_acc: 0.5625\n",
            "Epoch 22/30\n",
            "69/69 [==============================] - 0s 1ms/step - loss: 1.9303e-04 - acc: 1.0000 - val_loss: 1.8598 - val_acc: 0.5000\n",
            "Epoch 23/30\n",
            "69/69 [==============================] - 0s 1ms/step - loss: 0.0011 - acc: 1.0000 - val_loss: 1.5874 - val_acc: 0.5000\n",
            "Epoch 24/30\n",
            "69/69 [==============================] - 0s 2ms/step - loss: 9.2623e-05 - acc: 1.0000 - val_loss: 1.4936 - val_acc: 0.5000\n",
            "Epoch 25/30\n",
            "69/69 [==============================] - 0s 2ms/step - loss: 0.0014 - acc: 1.0000 - val_loss: 1.8858 - val_acc: 0.5000\n",
            "Epoch 26/30\n",
            "69/69 [==============================] - 0s 2ms/step - loss: 4.3333e-04 - acc: 1.0000 - val_loss: 1.9051 - val_acc: 0.5000\n",
            "Epoch 27/30\n",
            "69/69 [==============================] - 0s 2ms/step - loss: 1.5017e-04 - acc: 1.0000 - val_loss: 1.8390 - val_acc: 0.5000\n",
            "Epoch 28/30\n",
            "69/69 [==============================] - 0s 2ms/step - loss: 2.1653e-04 - acc: 1.0000 - val_loss: 1.7599 - val_acc: 0.5000\n",
            "Epoch 29/30\n",
            "69/69 [==============================] - 0s 2ms/step - loss: 1.5634e-04 - acc: 1.0000 - val_loss: 1.6452 - val_acc: 0.5000\n",
            "Epoch 30/30\n",
            "69/69 [==============================] - 0s 2ms/step - loss: 1.5895e-04 - acc: 1.0000 - val_loss: 1.5909 - val_acc: 0.5000\n"
          ],
          "name": "stdout"
        }
      ]
    },
    {
      "cell_type": "code",
      "metadata": {
        "id": "RIicBTMYEnme",
        "colab_type": "code",
        "outputId": "0f09fba4-dfbe-424f-8692-812eebc9de4f",
        "colab": {
          "base_uri": "https://localhost:8080/",
          "height": 317
        }
      },
      "source": [
        "#loss, accuracy = model.evaluate(padded_sentences_test, test_label, verbose=1)\n",
        "loss, accuracy = model.evaluate(review_pad_test, sentiment_test, batch_size=6, verbose=1)\n",
        "print('Accuracy: %f' % (accuracy*100))\n",
        "\n",
        "# 5. 학습과정 살펴보기\n",
        "%matplotlib inline\n",
        "import matplotlib.pyplot as plt\n",
        "\n",
        "fig, loss_ax = plt.subplots()\n",
        "\n",
        "acc_ax = loss_ax.twinx()\n",
        "\n",
        "loss_ax.plot(result.history['loss'], 'y', label='train loss')\n",
        "loss_ax.plot(result.history['val_loss'], 'r', label='val loss')\n",
        "loss_ax.set_ylim([-0.2, 1.2])\n",
        "\n",
        "acc_ax.plot(result.history['acc'], 'b', label='train acc')\n",
        "acc_ax.plot(result.history['val_acc'], 'g', label='val acc')\n",
        "acc_ax.set_ylim([-0.2, 1.2])\n",
        "\n",
        "loss_ax.set_xlabel('epoch')\n",
        "loss_ax.set_ylabel('loss')\n",
        "acc_ax.set_ylabel('accuracy')\n",
        "\n",
        "loss_ax.legend(loc='upper left')\n",
        "acc_ax.legend(loc='lower left')\n",
        "\n",
        "plt.show()\n"
      ],
      "execution_count": 0,
      "outputs": [
        {
          "output_type": "stream",
          "text": [
            "34/34 [==============================] - 0s 2ms/step\n",
            "Accuracy: 55.882352\n"
          ],
          "name": "stdout"
        },
        {
          "output_type": "display_data",
          "data": {
            "image/png": "[encoded data removed]",
            "text/plain": [
              "<Figure size 432x288 with 2 Axes>"
            ]
          },
          "metadata": {
            "tags": []
          }
        }
      ]
    },
    {
      "cell_type": "code",
      "metadata": {
        "id": "GL9oFs6WEru4",
        "colab_type": "code",
        "colab": {}
      },
      "source": [
        "# save model - 파일명에 정확도.\n",
        "\n",
        "model.save('/content/drive/My Drive/final/111_%.2f.h5' % (accuracy*100))\n"
      ],
      "execution_count": 0,
      "outputs": []
    },
    {
      "cell_type": "markdown",
      "metadata": {
        "id": "rHCGw_ITfPLi",
        "colab_type": "text"
      },
      "source": [
        "https://lsjsj92.tistory.com/353\n",
        "\n",
        "리뷰당 Max 패딩 길이는 긴데. 정작 대부분의 리뷰의 길이는 짧음.\n",
        "같은 레이블(별점)을 갖는 리뷰들을 각각 3~5개?씩 합쳐보는 건 어떤지?\n",
        "\n",
        "\n",
        "=> 우리 리뷰의 경우도  Max=142 길이로 zero 패딩해뒀는데\n",
        "출력해보니 대부분의 리뷰는 XX 두자리수 길이였음.(대략 20~30)\n"
      ]
    }
  ]
}