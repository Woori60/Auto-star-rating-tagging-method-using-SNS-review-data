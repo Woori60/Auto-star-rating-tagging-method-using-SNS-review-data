{
  "nbformat": 4,
  "nbformat_minor": 0,
  "metadata": {
    "colab": {
      "name": "(최종) padding mean.ipynb",
      "provenance": [],
      "collapsed_sections": [],
      "include_colab_link": true
    },
    "kernelspec": {
      "name": "python3",
      "display_name": "Python 3"
    },
    "accelerator": "GPU"
  },
  "cells": [
    {
      "cell_type": "markdown",
      "metadata": {
        "id": "view-in-github",
        "colab_type": "text"
      },
      "source": [
        "<a href=\"https://colab.research.google.com/github/Woori60/Auto-star-rating-tagging-method-using-SNS-review-data/blob/master/All_data_cnn.ipynb\" target=\"_parent\"><img src=\"https://colab.research.google.com/assets/colab-badge.svg\" alt=\"Open In Colab\"/></a>"
      ]
    },
    {
      "cell_type": "code",
      "metadata": {
        "id": "3fRBdfvIlWCG",
        "colab_type": "code",
        "colab": {}
      },
      "source": [
        "# GPU로 바꾸기"
      ],
      "execution_count": 0,
      "outputs": []
    },
    {
      "cell_type": "code",
      "metadata": {
        "id": "GkfBthQjls04",
        "colab_type": "code",
        "outputId": "a640c41d-4fa8-4360-96a8-a0eaa3121aeb",
        "colab": {
          "base_uri": "https://localhost:8080/",
          "height": 210
        }
      },
      "source": [
        "import nltk\n",
        "nltk.download('punkt')\n",
        "nltk.download('averaged_perceptron_tagger')\n",
        "nltk.download('wordnet')\n",
        "nltk.download('stopwords')"
      ],
      "execution_count": 2,
      "outputs": [
        {
          "output_type": "stream",
          "text": [
            "[nltk_data] Downloading package punkt to /root/nltk_data...\n",
            "[nltk_data]   Package punkt is already up-to-date!\n",
            "[nltk_data] Downloading package averaged_perceptron_tagger to\n",
            "[nltk_data]     /root/nltk_data...\n",
            "[nltk_data]   Package averaged_perceptron_tagger is already up-to-\n",
            "[nltk_data]       date!\n",
            "[nltk_data] Downloading package wordnet to /root/nltk_data...\n",
            "[nltk_data]   Package wordnet is already up-to-date!\n",
            "[nltk_data] Downloading package stopwords to /root/nltk_data...\n",
            "[nltk_data]   Package stopwords is already up-to-date!\n"
          ],
          "name": "stdout"
        },
        {
          "output_type": "execute_result",
          "data": {
            "text/plain": [
              "True"
            ]
          },
          "metadata": {
            "tags": []
          },
          "execution_count": 2
        }
      ]
    },
    {
      "cell_type": "code",
      "metadata": {
        "id": "mnOdY38DbFjX",
        "colab_type": "code",
        "outputId": "66020c2c-5b6a-4915-a80f-c8967f8495b8",
        "colab": {
          "base_uri": "https://localhost:8080/",
          "height": 34
        }
      },
      "source": [
        "from google.colab import drive\n",
        "drive.mount('/content/drive')"
      ],
      "execution_count": 3,
      "outputs": [
        {
          "output_type": "stream",
          "text": [
            "Drive already mounted at /content/drive; to attempt to forcibly remount, call drive.mount(\"/content/drive\", force_remount=True).\n"
          ],
          "name": "stdout"
        }
      ]
    },
    {
      "cell_type": "code",
      "metadata": {
        "id": "28ar6pGT-WAr",
        "colab_type": "code",
        "outputId": "32a992c4-523c-429b-ba2f-e90cddfce1e8",
        "colab": {
          "base_uri": "https://localhost:8080/",
          "height": 54
        }
      },
      "source": [
        "#표제화 X\n",
        "#다시 돌릴 필요 X\n",
        "#리뷰 1,5 토큰화\n",
        "'''\n",
        "import json\n",
        "import nltk\n",
        "from nltk.corpus import stopwords\n",
        "from nltk.tokenize import word_tokenize\n",
        "from nltk.stem import WordNetLemmatizer\n",
        "from nltk.tag import pos_tag\n",
        "import re\n",
        "\n",
        "nltk.download('punkt')\n",
        "nltk.download('averaged_perceptron_tagger')\n",
        "nltk.download('wordnet')\n",
        "nltk.download('stopwords')\n",
        "\n",
        "n=WordNetLemmatizer()\n",
        "\n",
        "tx1 = ''\n",
        "tx2 = ''\n",
        "remove_list = ['NN', 'IN', 'DT', 'MD', 'TO', 'PR', 'CC', 'WD', 'WP']\n",
        "\n",
        "with open('/content/drive/My Drive/2man_review_5.json', 'rt', encoding='UTF-8') as f:\n",
        "    for line in f:\n",
        "        lineobj = json.loads(line)\n",
        "        tx1 = lineobj['text']       \n",
        "        tx3 = tx1.lower()\n",
        "        word_tokens = word_tokenize(tx3)\n",
        "\n",
        "        result = []\n",
        "        words = []\n",
        "        nword = []\n",
        "\n",
        "        #print(word_tokens)\n",
        "\n",
        "        #print('\\n\\n***lemmatize***\\n')\n",
        "        \n",
        "        tag_l = pos_tag(word_tokens)\n",
        "\n",
        "        for w in tag_l:\n",
        "          if w[1][:2] in remove_list:\n",
        "            continue\n",
        "          else:\n",
        "            words.append(w[0])\n",
        "        #print(words)\n",
        "        \n",
        "        stop_words = set(stopwords.words('english'))\n",
        "        stop_words.update(['\\'re', '\\'d', '\\'t', '\\'ll', '\\'ve', '\\'s','\\'m', '!', '.', ',', '/', '?', '\\\"', '@', '%', '&', '*', '=','(',')','{','}', '-', '--', 'u', '...','$', '#', '*', '@', ':', ';', '[',']','~']) \n",
        "        stop_words.remove('not')\n",
        "        \n",
        "        for w in words:\n",
        "          if w == 'n\\'t':\n",
        "            w = 'not'\n",
        "          if w not in stop_words:\n",
        "            a = re.sub('[^a-zA-Z ]', '', w)\n",
        "            if a != '':\n",
        "              result.append(a) #result에 불용어 제거된 tokens 존재\n",
        "        \n",
        "        newresult=[]\n",
        "        for token in result:\n",
        "          shortword = re.compile(r'\\W*\\b\\w{1,2}\\b')\n",
        "          tk = shortword.sub('', token)\n",
        "          if tk != '':\n",
        "            newresult.append(tk)\n",
        "        #print(newresult, '\\n')\n",
        "\n",
        "        tmpresult=[]\n",
        "        for review in newresult:\n",
        "          if review[:3] != 'www':\n",
        "            tmpresult.append(review)\n",
        "\n",
        "        #print(tmpresult)\n",
        "        newresult = tmpresult\n",
        "\n",
        "        # 길이 14 이상\n",
        "        notremove = ['unpretentious', 'unfortunately', 'approximately', 'complimentary', 'uncomfortable','disappointing']\n",
        "        lenreview = []\n",
        "        for review in newresult:\n",
        "          if len(review) >= 13 and review not in notremove :\n",
        "            continue\n",
        "          else:\n",
        "            lenreview.append(review)\n",
        "\n",
        "        newresult = lenreview\n",
        "\n",
        "        with open('/content/drive/My Drive/2man_5_tokenized_mean.txt', 'a', encoding='UTF-8') as mf:\n",
        "          mf.write('[\\n')\n",
        "          mf.write('\\n'.join(newresult))\n",
        "          mf.write('\\n]\\n')\n",
        "    \n",
        "f.close() \n",
        "'''         "
      ],
      "execution_count": 4,
      "outputs": [
        {
          "output_type": "execute_result",
          "data": {
            "text/plain": [
              "'\\nimport json\\nimport nltk\\nfrom nltk.corpus import stopwords\\nfrom nltk.tokenize import word_tokenize\\nfrom nltk.stem import WordNetLemmatizer\\nfrom nltk.tag import pos_tag\\nimport re\\n\\nnltk.download(\\'punkt\\')\\nnltk.download(\\'averaged_perceptron_tagger\\')\\nnltk.download(\\'wordnet\\')\\nnltk.download(\\'stopwords\\')\\n\\nn=WordNetLemmatizer()\\n\\ntx1 = \\'\\'\\ntx2 = \\'\\'\\nremove_list = [\\'NN\\', \\'IN\\', \\'DT\\', \\'MD\\', \\'TO\\', \\'PR\\', \\'CC\\', \\'WD\\', \\'WP\\']\\n\\nwith open(\\'/content/drive/My Drive/2man_review_5.json\\', \\'rt\\', encoding=\\'UTF-8\\') as f:\\n    for line in f:\\n        lineobj = json.loads(line)\\n        tx1 = lineobj[\\'text\\']       \\n        tx3 = tx1.lower()\\n        word_tokens = word_tokenize(tx3)\\n\\n        result = []\\n        words = []\\n        nword = []\\n\\n        #print(word_tokens)\\n\\n        #print(\\'\\n\\n***lemmatize***\\n\\')\\n        \\n        tag_l = pos_tag(word_tokens)\\n\\n        for w in tag_l:\\n          if w[1][:2] in remove_list:\\n            continue\\n          else:\\n            words.append(w[0])\\n        #print(words)\\n        \\n        stop_words = set(stopwords.words(\\'english\\'))\\n        stop_words.update([\\'\\'re\\', \\'\\'d\\', \\'\\'t\\', \\'\\'ll\\', \\'\\'ve\\', \\'\\'s\\',\\'\\'m\\', \\'!\\', \\'.\\', \\',\\', \\'/\\', \\'?\\', \\'\"\\', \\'@\\', \\'%\\', \\'&\\', \\'*\\', \\'=\\',\\'(\\',\\')\\',\\'{\\',\\'}\\', \\'-\\', \\'--\\', \\'u\\', \\'...\\',\\'$\\', \\'#\\', \\'*\\', \\'@\\', \\':\\', \\';\\', \\'[\\',\\']\\',\\'~\\']) \\n        stop_words.remove(\\'not\\')\\n        \\n        for w in words:\\n          if w == \\'n\\'t\\':\\n            w = \\'not\\'\\n          if w not in stop_words:\\n            a = re.sub(\\'[^a-zA-Z ]\\', \\'\\', w)\\n            if a != \\'\\':\\n              result.append(a) #result에 불용어 제거된 tokens 존재\\n        \\n        newresult=[]\\n        for token in result:\\n          shortword = re.compile(r\\'\\\\W*\\x08\\\\w{1,2}\\x08\\')\\n          tk = shortword.sub(\\'\\', token)\\n          if tk != \\'\\':\\n            newresult.append(tk)\\n        #print(newresult, \\'\\n\\')\\n\\n        tmpresult=[]\\n        for review in newresult:\\n          if review[:3] != \\'www\\':\\n            tmpresult.append(review)\\n\\n        #print(tmpresult)\\n        newresult = tmpresult\\n\\n        # 길이 14 이상\\n        notremove = [\\'unpretentious\\', \\'unfortunately\\', \\'approximately\\', \\'complimentary\\', \\'uncomfortable\\',\\'disappointing\\']\\n        lenreview = []\\n        for review in newresult:\\n          if len(review) >= 13 and review not in notremove :\\n            continue\\n          else:\\n            lenreview.append(review)\\n\\n        newresult = lenreview\\n\\n        with open(\\'/content/drive/My Drive/2man_5_tokenized_mean.txt\\', \\'a\\', encoding=\\'UTF-8\\') as mf:\\n          mf.write(\\'[\\n\\')\\n          mf.write(\\'\\n\\'.join(newresult))\\n          mf.write(\\'\\n]\\n\\')\\n    \\nf.close() \\n'"
            ]
          },
          "metadata": {
            "tags": []
          },
          "execution_count": 4
        }
      ]
    },
    {
      "cell_type": "code",
      "metadata": {
        "id": "gzMKvl7HHxvr",
        "colab_type": "code",
        "outputId": "c97ed039-b49d-4924-8708-9db542290e2c",
        "colab": {
          "base_uri": "https://localhost:8080/",
          "height": 134
        }
      },
      "source": [
        "# 데이터 준비\n",
        "import re\n",
        "import nltk\n",
        "from gensim.models import Word2Vec\n",
        "import os\n",
        "import numpy as np\n",
        "import json\n",
        "from nltk.tokenize import word_tokenize\n",
        "from keras.preprocessing.text import Tokenizer\n",
        "from keras.preprocessing.sequence import pad_sequences\n",
        "from keras.utils import np_utils\n",
        "from keras.optimizers import SGD\n",
        "import numpy as np\n",
        "\n",
        "# token list 읽기 - 전체(이후에 분할)\n",
        "from keras_preprocessing.text import Tokenizer\n",
        "\n",
        "\n",
        "# label 준비(1, 5)\n",
        "label1 = []\n",
        "c=0\n",
        "with open('/content/drive/My Drive/man_review_1.json', 'rt', encoding='UTF-8') as f:\n",
        "    for line in f:\n",
        "      c= c+1\n",
        "      if c > 2000:\n",
        "        break\n",
        "      else:\n",
        "        lineobj = json.loads(line)\n",
        "        star = lineobj['stars']\n",
        "        if star == 1:\n",
        "          label1.append(0)\n",
        "        elif star == 5:\n",
        "          label1.append(1)\n",
        "\n",
        "f.close()\n",
        "\n",
        "c=0\n",
        "label5 = []\n",
        "with open('/content/drive/My Drive/2man_review_5.json', 'rt', encoding='UTF-8') as f:\n",
        "    for line in f:\n",
        "      c=c+1\n",
        "      if c > 2000:\n",
        "        break\n",
        "      else:\n",
        "        lineobj = json.loads(line)\n",
        "        star = lineobj['stars']\n",
        "        if star == 1:\n",
        "          label5.append(0)\n",
        "        elif star == 5:\n",
        "          label5.append(1)\n",
        "\n",
        "f.close()\n",
        "\n",
        "label1.extend(label5)\n",
        "\n",
        "label = np.array(label1)\n",
        "label = np_utils.to_categorical(label, num_classes=2)\n",
        "\n",
        "# data 준비\n",
        "dataAll2 = []\n",
        "result = []\n",
        "data1 = []\n",
        "with open('/content/drive/My Drive/man_1_tokenized_mean.txt', 'rt', encoding='UTF-8') as mf:\n",
        "  while True:\n",
        "    temp = mf.readline()\n",
        "    if not temp:\n",
        "      break\n",
        "    if temp == '[\\n':\n",
        "      continue\n",
        "    elif temp == ']\\n':\n",
        "      data1.append(result)\n",
        "      result = []\n",
        "      continue\n",
        "    else:\n",
        "      l = len(temp)\n",
        "      word = temp[0:l-1]\n",
        "      result.append(word)\n",
        "\n",
        "mf.close()\n",
        "\n",
        "c=0\n",
        "for sent in data1:\n",
        "  if len(sent) <= 30 or len(sent) > 80:\n",
        "    continue\n",
        "  else:\n",
        "    c=c+1\n",
        "    if c > 2000:\n",
        "      break\n",
        "    else:\n",
        "      dataAll2.append(sent)\n",
        "\n",
        "print('data size : ', len(dataAll2))\n",
        "\n",
        "\n",
        "result = []\n",
        "data5 = []\n",
        "with open('/content/drive/My Drive/2man_5_tokenized_mean.txt', 'rt', encoding='UTF-8') as mf:\n",
        "  while True:\n",
        "    temp = mf.readline()\n",
        "    if not temp:\n",
        "      break\n",
        "    if temp == '[\\n':\n",
        "      continue\n",
        "    elif temp == ']\\n':\n",
        "      data5.append(result)\n",
        "      result = []\n",
        "      continue\n",
        "    else:\n",
        "      l = len(temp)\n",
        "      word = temp[0:l-1]\n",
        "      result.append(word)\n",
        "\n",
        "mf.close()\n",
        "\n",
        "c=0\n",
        "for sent in data5:\n",
        "  if len(sent) <= 30 or len(sent) > 80:\n",
        "    continue\n",
        "  else:\n",
        "    c=c+1\n",
        "    if c > 2000:\n",
        "      break\n",
        "    else:\n",
        "      dataAll2.append(sent)\n",
        "\n",
        "\n",
        "print('label size : ', len(label))\n",
        "print('data size : ', len(dataAll2))"
      ],
      "execution_count": 5,
      "outputs": [
        {
          "output_type": "stream",
          "text": [
            "Using TensorFlow backend.\n"
          ],
          "name": "stderr"
        },
        {
          "output_type": "display_data",
          "data": {
            "text/html": [
              "<p style=\"color: red;\">\n",
              "The default version of TensorFlow in Colab will soon switch to TensorFlow 2.x.<br>\n",
              "We recommend you <a href=\"https://www.tensorflow.org/guide/migrate\" target=\"_blank\">upgrade</a> now \n",
              "or ensure your notebook will continue to use TensorFlow 1.x via the <code>%tensorflow_version 1.x</code> magic:\n",
              "<a href=\"https://colab.research.google.com/notebooks/tensorflow_version.ipynb\" target=\"_blank\">more info</a>.</p>\n"
            ],
            "text/plain": [
              "<IPython.core.display.HTML object>"
            ]
          },
          "metadata": {
            "tags": []
          }
        },
        {
          "output_type": "stream",
          "text": [
            "data size :  2000\n",
            "label size :  4000\n",
            "data size :  4000\n"
          ],
          "name": "stdout"
        }
      ]
    },
    {
      "cell_type": "code",
      "metadata": {
        "id": "VBRxU0Bs-4xM",
        "colab_type": "code",
        "outputId": "2e7b4d07-9734-4f23-f715-10bcdb924535",
        "colab": {
          "base_uri": "https://localhost:8080/",
          "height": 54
        }
      },
      "source": [
        "#다시 돌릴 필요X\n",
        "'''\n",
        "#word2vec 모델 생성\n",
        "embedding_dim = 300\n",
        "\n",
        "#train word2vec model\n",
        "embedding_model = Word2Vec(sentences=dataAll2, size=embedding_dim, min_count=2, window=4, iter=200, workers=4, sg=1) #size = embedding_dim = 80\n",
        "\n",
        "# load model\n",
        "filename = '/content/drive/My Drive/pretrained/GoogleNews-vectors-negative300.bin'\n",
        "embedding_model.intersect_word2vec_format(filename, binary=True)\n",
        "\n",
        "# save model\n",
        "filename = '/content/drive/My Drive/final/w2v_model_intersect_4000_mean_80.txt'\n",
        "embedding_model.wv.save_word2vec_format(filename, binary=False)\n",
        "'''"
      ],
      "execution_count": 6,
      "outputs": [
        {
          "output_type": "execute_result",
          "data": {
            "text/plain": [
              "\"\\n#word2vec 모델 생성\\nembedding_dim = 300\\n\\n#train word2vec model\\nembedding_model = Word2Vec(sentences=dataAll2, size=embedding_dim, min_count=2, window=4, iter=200, workers=4, sg=1) #size = embedding_dim = 80\\n\\n# load model\\nfilename = '/content/drive/My Drive/pretrained/GoogleNews-vectors-negative300.bin'\\nembedding_model.intersect_word2vec_format(filename, binary=True)\\n\\n# save model\\nfilename = '/content/drive/My Drive/final/w2v_model_intersect_4000_mean_80.txt'\\nembedding_model.wv.save_word2vec_format(filename, binary=False)\\n\""
            ]
          },
          "metadata": {
            "tags": []
          },
          "execution_count": 6
        }
      ]
    },
    {
      "cell_type": "code",
      "metadata": {
        "id": "2odEfwfn-8ZC",
        "colab_type": "code",
        "colab": {}
      },
      "source": [
        "# load pretrained model\n",
        "embeddings_index = {}\n",
        "file = open(os.path.join('', '/content/drive/My Drive/final/w2v_model_intersect_4000_mean_80.txt'), encoding=\"utf-8\")\n",
        "for line in file:\n",
        "  values = line.split()\n",
        "  word = values[0]\n",
        "  coefs = np.asarray(values[1:])\n",
        "  embeddings_index[word] = coefs\n",
        "file.close()"
      ],
      "execution_count": 0,
      "outputs": []
    },
    {
      "cell_type": "code",
      "metadata": {
        "id": "CzvIsWSYNf7w",
        "colab_type": "code",
        "outputId": "84d20aa8-c932-4fee-fcf0-94759e996efd",
        "colab": {
          "base_uri": "https://localhost:8080/",
          "height": 140
        }
      },
      "source": [
        "# 전체 데이터 학습(6)/검증(1)/테스트(3)\n",
        "from sklearn.model_selection import StratifiedShuffleSplit\n",
        "from sklearn.model_selection import train_test_split\n",
        "import keras\n",
        "\n",
        "import numpy as np\n",
        "\n",
        "# train_test_split\n",
        "# Stratified하게 트레이닝셋과 테스트셋으로 나눈다(1회만 실시)\n",
        "from sklearn.model_selection import train_test_split\n",
        "seed = 777\n",
        "dataAll2 = np.array(dataAll2)\n",
        "train_index, test_index = train_test_split(np.array(range(dataAll2.shape[0])), shuffle=True, stratify=label, test_size=0.3, random_state=seed)\n",
        "\n",
        "x_train, X_test = dataAll2[train_index], dataAll2[test_index]\n",
        "y_train, Y_test = label[train_index], label[test_index]\n",
        "print(\"-\"*40)\n",
        "\n",
        "print('테스트 : ', len(X_test), ', ', len(Y_test))\n",
        "\n",
        "train_index, valid_index = train_test_split(np.array(range(x_train.shape[0])), shuffle=True, stratify=y_train, test_size=0.1, random_state=seed)\n",
        "\n",
        "X_train, X_valid = x_train[train_index], x_train[valid_index]\n",
        "Y_train, Y_valid = y_train[train_index], y_train[valid_index]\n",
        "print(\"-\"*40)\n",
        "print('학습 : ', len(X_train), ', ', len(Y_train))\n",
        "print(\"-\"*40)\n",
        "print('검증 : ', len(X_valid), ', ', len(Y_valid))\n",
        "print(\"-\"*40)\n"
      ],
      "execution_count": 8,
      "outputs": [
        {
          "output_type": "stream",
          "text": [
            "----------------------------------------\n",
            "테스트 :  1200 ,  1200\n",
            "----------------------------------------\n",
            "학습 :  2520 ,  2520\n",
            "----------------------------------------\n",
            "검증 :  280 ,  280\n",
            "----------------------------------------\n"
          ],
          "name": "stdout"
        }
      ]
    },
    {
      "cell_type": "code",
      "metadata": {
        "id": "JlNgkz_iL6-k",
        "colab_type": "code",
        "outputId": "b24a350f-3a2b-42f1-dff4-71e6af004b80",
        "colab": {
          "base_uri": "https://localhost:8080/",
          "height": 34
        }
      },
      "source": [
        "# max_length - train data\n",
        "train_sum=0\n",
        "train_count = len(X_train)\n",
        "for sent in X_train :\n",
        "  train_sum = train_sum+len(sent)\n",
        "\n",
        "test_count = len(X_test)\n",
        "for sent in X_test :\n",
        "  train_sum = train_sum+len(sent)\n",
        "\n",
        "valid_count = len(X_valid)\n",
        "for sent in X_test :\n",
        "  train_sum = train_sum+len(sent)\n",
        "\n",
        "MAX = train_sum / (train_count + test_count + valid_count)\n",
        "\n",
        "MAX = int(MAX)\n",
        "print(MAX)"
      ],
      "execution_count": 9,
      "outputs": [
        {
          "output_type": "stream",
          "text": [
            "57\n"
          ],
          "name": "stdout"
        }
      ]
    },
    {
      "cell_type": "code",
      "metadata": {
        "id": "3Lbq4v75OcC3",
        "colab_type": "code",
        "colab": {}
      },
      "source": [
        "tmp_train=[]\n",
        "for review in X_train:\n",
        "  if len(review) > 57:\n",
        "    tmp_train.append(review[0:58])\n",
        "  else:\n",
        "    tmp_train.append(review)\n",
        "X_train = tmp_train\n",
        "\n",
        "tmp_test=[]\n",
        "for review in X_test:\n",
        "  if len(review) > 57:\n",
        "    tmp_test.append(review[0:58])\n",
        "  else:\n",
        "    tmp_test.append(review)\n",
        "X_test = tmp_test\n",
        "\n",
        "\n",
        "tmp_valid=[]\n",
        "for review in X_valid:\n",
        "  if len(review) > 57:\n",
        "    tmp_valid.append(review[0:58])\n",
        "  else:\n",
        "    tmp_valid.append(review)\n",
        "X_valid = tmp_valid"
      ],
      "execution_count": 0,
      "outputs": []
    },
    {
      "cell_type": "code",
      "metadata": {
        "id": "JdvSXtfMTeGA",
        "colab_type": "code",
        "outputId": "f9fd92f2-5ac1-4c6d-eec6-bcd0a89bae45",
        "colab": {
          "base_uri": "https://localhost:8080/",
          "height": 70
        }
      },
      "source": [
        "print(len(X_train))\n",
        "print(len(X_test))\n",
        "print(len(X_valid))"
      ],
      "execution_count": 11,
      "outputs": [
        {
          "output_type": "stream",
          "text": [
            "2520\n",
            "1200\n",
            "280\n"
          ],
          "name": "stdout"
        }
      ]
    },
    {
      "cell_type": "code",
      "metadata": {
        "id": "6FloYtgbY7QK",
        "colab_type": "code",
        "outputId": "f706fe87-3bcc-41e7-e4a4-63d326fb43ea",
        "colab": {
          "base_uri": "https://localhost:8080/",
          "height": 228
        }
      },
      "source": [
        "\n",
        "#########################################\n",
        "tokenizer_obj = Tokenizer()\n",
        "tokenizer_obj.fit_on_texts(dataAll2)\n",
        "sequences_obj = tokenizer_obj.texts_to_sequences(dataAll2)\n",
        "word_index = tokenizer_obj.word_index\n",
        "num_words = len(word_index)+1\n",
        "embedding_dim = 300\n",
        "embedding_matrix = np.zeros((num_words, embedding_dim))\n",
        "for word, i in word_index.items():\n",
        "  if i > num_words:\n",
        "    continue\n",
        "  embedding_vector = embeddings_index.get(word)\n",
        "  if embedding_vector is not None :\n",
        "    # words not found in embedding index will be all-zeros\n",
        "    embedding_matrix[i] = embedding_vector\n",
        "##########################################\n",
        "\n",
        "\n",
        "# vec - train data\n",
        "tokenizer_obj_train = Tokenizer()\n",
        "tokenizer_obj_train.fit_on_texts(X_train)\n",
        "sequences_train = tokenizer_obj_train.texts_to_sequences(X_train)\n",
        "\n",
        "# vec - test data\n",
        "tokenizer_obj_test = Tokenizer()\n",
        "tokenizer_obj_test.fit_on_texts(X_test)\n",
        "sequences_test = tokenizer_obj_test.texts_to_sequences(X_test)\n",
        "\n",
        "# vec - valid data\n",
        "tokenizer_obj_valid = Tokenizer()\n",
        "tokenizer_obj_valid.fit_on_texts(X_valid)\n",
        "sequences_valid = tokenizer_obj_valid.texts_to_sequences(X_valid)\n",
        "\n",
        "\n",
        "# pad_sequences_train\n",
        "word_index_train = tokenizer_obj_train.word_index\n",
        "print('Found %s unique tokens.' % len(word_index_train))\n",
        "\n",
        "review_pad_train = pad_sequences(sequences_train, maxlen=MAX, padding = 'post')         # test data max가 더 커서 그 값으로 train, test 둘다 패딩\n",
        "sentiment_train = Y_train\n",
        "\n",
        "print('Shape of review tensor:', review_pad_train.shape)\n",
        "print('Shape of sentiment tensor:', sentiment_train.shape)\n",
        "\n",
        "num_words_train = len(word_index_train)+1\n",
        "embedding_dim = 300\n",
        "embedding_matrix_train = np.zeros((num_words_train, embedding_dim))\n",
        "\n",
        "for word, i in word_index_train.items():\n",
        "  if i > num_words_train:\n",
        "    continue\n",
        "  embedding_vector = embeddings_index.get(word)\n",
        "  if embedding_vector is not None :\n",
        "    # words not found in embedding index will be all-zeros\n",
        "    embedding_matrix_train[i] = embedding_vector\n",
        "\n",
        "print('train data word size : ',num_words_train)\n",
        "\n",
        "# pad_sequences_test\n",
        "word_index_test = tokenizer_obj_test.word_index\n",
        "print('Found %s unique tokens(test).' % len(word_index_test))\n",
        "\n",
        "review_pad_test = pad_sequences(sequences_test, maxlen=MAX, padding = 'post')   # test data max가 더 커서 그 값으로 train, test 둘다 패딩\n",
        "sentiment_test = Y_test\n",
        "\n",
        "print('Shape of review tensor(test):', review_pad_test.shape)\n",
        "print('Shape of sentiment tensor(test):', sentiment_test.shape)\n",
        "\n",
        "num_words_test = len(word_index_test)+1\n",
        "embedding_matrix_test = np.zeros((num_words_test, embedding_dim))\n",
        "\n",
        "for word, i in word_index_test.items():\n",
        "  if i > num_words_test:\n",
        "    continue\n",
        "  embedding_vector = embeddings_index.get(word)\n",
        "  if embedding_vector is not None :\n",
        "    # words not found in embedding index will be all-zeros\n",
        "    embedding_matrix_test[i] = embedding_vector\n",
        "\n",
        "print('test data word size : ',num_words_test)\n",
        "\n",
        "# pad_sequences_valid\n",
        "word_index_valid = tokenizer_obj_valid.word_index\n",
        "print('Found %s unique tokens(valid).' % len(word_index_valid))\n",
        "\n",
        "review_pad_valid = pad_sequences(sequences_valid, maxlen=MAX, padding = 'post')   # test data max가 더 커서 그 값으로 train, test 둘다 패딩\n",
        "sentiment_valid = Y_valid\n",
        "\n",
        "print('Shape of review tensor(valid):', review_pad_valid.shape)\n",
        "print('Shape of sentiment tensor(valid):', sentiment_valid.shape)\n",
        "\n",
        "num_words_valid = len(word_index_valid)+1\n",
        "embedding_matrix_valid = np.zeros((num_words_valid, embedding_dim))\n",
        "\n",
        "for word, i in word_index_valid.items():\n",
        "  if i > num_words_valid:\n",
        "    continue\n",
        "  embedding_vector = embeddings_index.get(word)\n",
        "  if embedding_vector is not None :\n",
        "    # words not found in embedding index will be all-zeros\n",
        "    embedding_matrix_valid[i] = embedding_vector\n",
        "\n",
        "print('valid data word size : ',num_words_valid)"
      ],
      "execution_count": 12,
      "outputs": [
        {
          "output_type": "stream",
          "text": [
            "Found 9075 unique tokens.\n",
            "Shape of review tensor: (2520, 57)\n",
            "Shape of sentiment tensor: (2520, 2)\n",
            "train data word size :  9076\n",
            "Found 6347 unique tokens(test).\n",
            "Shape of review tensor(test): (1200, 57)\n",
            "Shape of sentiment tensor(test): (1200, 2)\n",
            "test data word size :  6348\n",
            "Found 2705 unique tokens(valid).\n",
            "Shape of review tensor(valid): (280, 57)\n",
            "Shape of sentiment tensor(valid): (280, 2)\n",
            "valid data word size :  2706\n"
          ],
          "name": "stdout"
        }
      ]
    },
    {
      "cell_type": "code",
      "metadata": {
        "id": "pScq85P8Jjji",
        "colab_type": "code",
        "outputId": "161811ff-24cd-4f47-83f9-647948bc5d5a",
        "colab": {
          "base_uri": "https://localhost:8080/",
          "height": 934
        }
      },
      "source": [
        "### code part3 - 훈련 모델\n",
        "\n",
        "from keras.models import Sequential\n",
        "from keras.layers import Dense, Embedding\n",
        "from keras.layers import Dense, Activation, Flatten, Dropout, Conv1D, MaxPooling1D\n",
        "from keras.layers.embeddings import Embedding\n",
        "from keras.initializers import Constant\n",
        "\n",
        "#model.reset_states()\n",
        "# define model\n",
        "# In the below code, the only change from previous model is using the embedding_matrix as input to the Embedding layer and setting trainable = False, since the embedding is already learned.\n",
        "\n",
        "model = Sequential()\n",
        "model.add(Embedding(num_words, embedding_dim, embeddings_initializer=Constant(embedding_matrix), input_length=MAX, trainable = False))    #test data max length로 맞춤\n",
        "model.add(Conv1D(filters=16, kernel_size=3, activation='relu'))\n",
        "model.add(MaxPooling1D(pool_size=2))\n",
        "model.add(Conv1D(filters=16 , kernel_size=2, activation='relu'))\n",
        "model.add(MaxPooling1D(pool_size=2))\n",
        "model.add(Conv1D(filters=32, kernel_size=2, activation='relu'))\n",
        "model.add(Dropout(0.4))\n",
        "model.add(Flatten())\n",
        "model.add(Dense(128, activation='relu'))\n",
        "model.add(Dense(64, activation='relu'))\n",
        "model.add(Dense(2, activation='sigmoid'))\n",
        "\n",
        "# try using different optimizers and different optimizer configs\n",
        "sgd = SGD(lr=0.01, nesterov=True, decay=1e-6, momentum=0.9)\n",
        "model.compile(loss='binary_crossentropy', optimizer='adam', metrics=['accuracy'])\n",
        "\n",
        "print(model.summary())"
      ],
      "execution_count": 13,
      "outputs": [
        {
          "output_type": "stream",
          "text": [
            "WARNING:tensorflow:From /usr/local/lib/python3.6/dist-packages/keras/backend/tensorflow_backend.py:66: The name tf.get_default_graph is deprecated. Please use tf.compat.v1.get_default_graph instead.\n",
            "\n",
            "WARNING:tensorflow:From /usr/local/lib/python3.6/dist-packages/keras/backend/tensorflow_backend.py:541: The name tf.placeholder is deprecated. Please use tf.compat.v1.placeholder instead.\n",
            "\n",
            "WARNING:tensorflow:From /usr/local/lib/python3.6/dist-packages/keras/backend/tensorflow_backend.py:4432: The name tf.random_uniform is deprecated. Please use tf.random.uniform instead.\n",
            "\n",
            "WARNING:tensorflow:From /usr/local/lib/python3.6/dist-packages/keras/backend/tensorflow_backend.py:4267: The name tf.nn.max_pool is deprecated. Please use tf.nn.max_pool2d instead.\n",
            "\n",
            "WARNING:tensorflow:From /usr/local/lib/python3.6/dist-packages/keras/backend/tensorflow_backend.py:148: The name tf.placeholder_with_default is deprecated. Please use tf.compat.v1.placeholder_with_default instead.\n",
            "\n",
            "WARNING:tensorflow:From /usr/local/lib/python3.6/dist-packages/keras/backend/tensorflow_backend.py:3733: calling dropout (from tensorflow.python.ops.nn_ops) with keep_prob is deprecated and will be removed in a future version.\n",
            "Instructions for updating:\n",
            "Please use `rate` instead of `keep_prob`. Rate should be set to `rate = 1 - keep_prob`.\n",
            "WARNING:tensorflow:From /usr/local/lib/python3.6/dist-packages/keras/optimizers.py:793: The name tf.train.Optimizer is deprecated. Please use tf.compat.v1.train.Optimizer instead.\n",
            "\n",
            "WARNING:tensorflow:From /usr/local/lib/python3.6/dist-packages/keras/backend/tensorflow_backend.py:3657: The name tf.log is deprecated. Please use tf.math.log instead.\n",
            "\n",
            "WARNING:tensorflow:From /usr/local/lib/python3.6/dist-packages/tensorflow_core/python/ops/nn_impl.py:183: where (from tensorflow.python.ops.array_ops) is deprecated and will be removed in a future version.\n",
            "Instructions for updating:\n",
            "Use tf.where in 2.0, which has the same broadcast rule as np.where\n",
            "Model: \"sequential_1\"\n",
            "_________________________________________________________________\n",
            "Layer (type)                 Output Shape              Param #   \n",
            "=================================================================\n",
            "embedding_1 (Embedding)      (None, 57, 300)           3651300   \n",
            "_________________________________________________________________\n",
            "conv1d_1 (Conv1D)            (None, 55, 16)            14416     \n",
            "_________________________________________________________________\n",
            "max_pooling1d_1 (MaxPooling1 (None, 27, 16)            0         \n",
            "_________________________________________________________________\n",
            "conv1d_2 (Conv1D)            (None, 26, 16)            528       \n",
            "_________________________________________________________________\n",
            "max_pooling1d_2 (MaxPooling1 (None, 13, 16)            0         \n",
            "_________________________________________________________________\n",
            "conv1d_3 (Conv1D)            (None, 12, 32)            1056      \n",
            "_________________________________________________________________\n",
            "dropout_1 (Dropout)          (None, 12, 32)            0         \n",
            "_________________________________________________________________\n",
            "flatten_1 (Flatten)          (None, 384)               0         \n",
            "_________________________________________________________________\n",
            "dense_1 (Dense)              (None, 128)               49280     \n",
            "_________________________________________________________________\n",
            "dense_2 (Dense)              (None, 64)                8256      \n",
            "_________________________________________________________________\n",
            "dense_3 (Dense)              (None, 2)                 130       \n",
            "=================================================================\n",
            "Total params: 3,724,966\n",
            "Trainable params: 73,666\n",
            "Non-trainable params: 3,651,300\n",
            "_________________________________________________________________\n",
            "None\n"
          ],
          "name": "stdout"
        }
      ]
    },
    {
      "cell_type": "code",
      "metadata": {
        "id": "QA6b4dsaD0lZ",
        "colab_type": "code",
        "outputId": "7dc9ae1e-b025-4510-9337-916d93aeedae",
        "colab": {
          "base_uri": "https://localhost:8080/",
          "height": 1000
        }
      },
      "source": [
        "result = model.fit(review_pad_train, sentiment_train, batch_size=80, epochs=100, validation_data=(review_pad_valid, sentiment_valid), verbose=1)"
      ],
      "execution_count": 14,
      "outputs": [
        {
          "output_type": "stream",
          "text": [
            "WARNING:tensorflow:From /usr/local/lib/python3.6/dist-packages/keras/backend/tensorflow_backend.py:1033: The name tf.assign_add is deprecated. Please use tf.compat.v1.assign_add instead.\n",
            "\n",
            "WARNING:tensorflow:From /usr/local/lib/python3.6/dist-packages/keras/backend/tensorflow_backend.py:1020: The name tf.assign is deprecated. Please use tf.compat.v1.assign instead.\n",
            "\n",
            "WARNING:tensorflow:From /usr/local/lib/python3.6/dist-packages/keras/backend/tensorflow_backend.py:3005: The name tf.Session is deprecated. Please use tf.compat.v1.Session instead.\n",
            "\n",
            "Train on 2520 samples, validate on 280 samples\n",
            "Epoch 1/60\n",
            "WARNING:tensorflow:From /usr/local/lib/python3.6/dist-packages/keras/backend/tensorflow_backend.py:190: The name tf.get_default_session is deprecated. Please use tf.compat.v1.get_default_session instead.\n",
            "\n",
            "WARNING:tensorflow:From /usr/local/lib/python3.6/dist-packages/keras/backend/tensorflow_backend.py:197: The name tf.ConfigProto is deprecated. Please use tf.compat.v1.ConfigProto instead.\n",
            "\n",
            "WARNING:tensorflow:From /usr/local/lib/python3.6/dist-packages/keras/backend/tensorflow_backend.py:207: The name tf.global_variables is deprecated. Please use tf.compat.v1.global_variables instead.\n",
            "\n",
            "WARNING:tensorflow:From /usr/local/lib/python3.6/dist-packages/keras/backend/tensorflow_backend.py:216: The name tf.is_variable_initialized is deprecated. Please use tf.compat.v1.is_variable_initialized instead.\n",
            "\n",
            "WARNING:tensorflow:From /usr/local/lib/python3.6/dist-packages/keras/backend/tensorflow_backend.py:223: The name tf.variables_initializer is deprecated. Please use tf.compat.v1.variables_initializer instead.\n",
            "\n",
            "2520/2520 [==============================] - 3s 1ms/step - loss: 0.6895 - acc: 0.5347 - val_loss: 0.6706 - val_acc: 0.6161\n",
            "Epoch 2/60\n",
            "2520/2520 [==============================] - 0s 101us/step - loss: 0.5831 - acc: 0.7016 - val_loss: 0.6914 - val_acc: 0.6232\n",
            "Epoch 3/60\n",
            "2520/2520 [==============================] - 0s 101us/step - loss: 0.4231 - acc: 0.7954 - val_loss: 0.6651 - val_acc: 0.6589\n",
            "Epoch 4/60\n",
            "2520/2520 [==============================] - 0s 103us/step - loss: 0.3280 - acc: 0.8609 - val_loss: 0.9055 - val_acc: 0.6250\n",
            "Epoch 5/60\n",
            "2520/2520 [==============================] - 0s 101us/step - loss: 0.2738 - acc: 0.8895 - val_loss: 0.8652 - val_acc: 0.6429\n",
            "Epoch 6/60\n",
            "2520/2520 [==============================] - 0s 100us/step - loss: 0.2270 - acc: 0.9103 - val_loss: 0.9521 - val_acc: 0.6232\n",
            "Epoch 7/60\n",
            "2520/2520 [==============================] - 0s 101us/step - loss: 0.1802 - acc: 0.9315 - val_loss: 0.9769 - val_acc: 0.6286\n",
            "Epoch 8/60\n",
            "2520/2520 [==============================] - 0s 104us/step - loss: 0.1561 - acc: 0.9403 - val_loss: 1.1914 - val_acc: 0.6071\n",
            "Epoch 9/60\n",
            "2520/2520 [==============================] - 0s 99us/step - loss: 0.1155 - acc: 0.9605 - val_loss: 1.1864 - val_acc: 0.6321\n",
            "Epoch 10/60\n",
            "2520/2520 [==============================] - 0s 98us/step - loss: 0.0765 - acc: 0.9760 - val_loss: 1.3035 - val_acc: 0.6071\n",
            "Epoch 11/60\n",
            "2520/2520 [==============================] - 0s 102us/step - loss: 0.0516 - acc: 0.9837 - val_loss: 1.4542 - val_acc: 0.6339\n",
            "Epoch 12/60\n",
            "2520/2520 [==============================] - 0s 108us/step - loss: 0.0384 - acc: 0.9877 - val_loss: 1.6145 - val_acc: 0.6429\n",
            "Epoch 13/60\n",
            "2520/2520 [==============================] - 0s 108us/step - loss: 0.0314 - acc: 0.9913 - val_loss: 1.6508 - val_acc: 0.6321\n",
            "Epoch 14/60\n",
            "2520/2520 [==============================] - 0s 99us/step - loss: 0.0218 - acc: 0.9940 - val_loss: 1.8803 - val_acc: 0.6393\n",
            "Epoch 15/60\n",
            "2520/2520 [==============================] - 0s 99us/step - loss: 0.0689 - acc: 0.9762 - val_loss: 1.7470 - val_acc: 0.6500\n",
            "Epoch 16/60\n",
            "2520/2520 [==============================] - 0s 103us/step - loss: 0.0227 - acc: 0.9927 - val_loss: 1.9646 - val_acc: 0.6571\n",
            "Epoch 17/60\n",
            "2520/2520 [==============================] - 0s 103us/step - loss: 0.1021 - acc: 0.9611 - val_loss: 1.6659 - val_acc: 0.6500\n",
            "Epoch 18/60\n",
            "2520/2520 [==============================] - 0s 99us/step - loss: 0.0255 - acc: 0.9927 - val_loss: 1.7908 - val_acc: 0.6232\n",
            "Epoch 19/60\n",
            "2520/2520 [==============================] - 0s 101us/step - loss: 0.0141 - acc: 0.9954 - val_loss: 1.9407 - val_acc: 0.6232\n",
            "Epoch 20/60\n",
            "2520/2520 [==============================] - 0s 104us/step - loss: 0.0110 - acc: 0.9972 - val_loss: 2.0243 - val_acc: 0.6268\n",
            "Epoch 21/60\n",
            "2520/2520 [==============================] - 0s 99us/step - loss: 0.0086 - acc: 0.9980 - val_loss: 2.1078 - val_acc: 0.6179\n",
            "Epoch 22/60\n",
            "2520/2520 [==============================] - 0s 102us/step - loss: 0.0081 - acc: 0.9976 - val_loss: 2.2060 - val_acc: 0.6429\n",
            "Epoch 23/60\n",
            "2520/2520 [==============================] - 0s 100us/step - loss: 0.0082 - acc: 0.9980 - val_loss: 2.2554 - val_acc: 0.6321\n",
            "Epoch 24/60\n",
            "2520/2520 [==============================] - 0s 106us/step - loss: 0.0052 - acc: 0.9984 - val_loss: 2.3329 - val_acc: 0.6339\n",
            "Epoch 25/60\n",
            "2520/2520 [==============================] - 0s 100us/step - loss: 0.0035 - acc: 0.9994 - val_loss: 2.4535 - val_acc: 0.6357\n",
            "Epoch 26/60\n",
            "2520/2520 [==============================] - 0s 108us/step - loss: 0.0036 - acc: 0.9988 - val_loss: 2.5481 - val_acc: 0.6268\n",
            "Epoch 27/60\n",
            "2520/2520 [==============================] - 0s 105us/step - loss: 0.0025 - acc: 1.0000 - val_loss: 2.6323 - val_acc: 0.6393\n",
            "Epoch 28/60\n",
            "2520/2520 [==============================] - 0s 104us/step - loss: 0.0026 - acc: 0.9992 - val_loss: 2.6435 - val_acc: 0.6446\n",
            "Epoch 29/60\n",
            "2520/2520 [==============================] - 0s 102us/step - loss: 0.0029 - acc: 0.9996 - val_loss: 2.6191 - val_acc: 0.6571\n",
            "Epoch 30/60\n",
            "2520/2520 [==============================] - 0s 103us/step - loss: 0.0015 - acc: 0.9994 - val_loss: 2.6453 - val_acc: 0.6607\n",
            "Epoch 31/60\n",
            "2520/2520 [==============================] - 0s 102us/step - loss: 0.0022 - acc: 1.0000 - val_loss: 2.7170 - val_acc: 0.6500\n",
            "Epoch 32/60\n",
            "2520/2520 [==============================] - 0s 106us/step - loss: 0.0030 - acc: 0.9988 - val_loss: 2.8079 - val_acc: 0.6286\n",
            "Epoch 33/60\n",
            "2520/2520 [==============================] - 0s 99us/step - loss: 0.0217 - acc: 0.9911 - val_loss: 2.8794 - val_acc: 0.6393\n",
            "Epoch 34/60\n",
            "2520/2520 [==============================] - 0s 104us/step - loss: 0.0330 - acc: 0.9867 - val_loss: 2.3868 - val_acc: 0.6357\n",
            "Epoch 35/60\n",
            "2520/2520 [==============================] - 0s 99us/step - loss: 0.0065 - acc: 0.9980 - val_loss: 2.4845 - val_acc: 0.6321\n",
            "Epoch 36/60\n",
            "2520/2520 [==============================] - 0s 104us/step - loss: 0.0035 - acc: 0.9988 - val_loss: 2.6136 - val_acc: 0.6304\n",
            "Epoch 37/60\n",
            "2520/2520 [==============================] - 0s 102us/step - loss: 0.0132 - acc: 0.9956 - val_loss: 2.6761 - val_acc: 0.6375\n",
            "Epoch 38/60\n",
            "2520/2520 [==============================] - 0s 98us/step - loss: 0.0113 - acc: 0.9964 - val_loss: 2.5053 - val_acc: 0.6321\n",
            "Epoch 39/60\n",
            "2520/2520 [==============================] - 0s 98us/step - loss: 0.0052 - acc: 0.9992 - val_loss: 2.5977 - val_acc: 0.6214\n",
            "Epoch 40/60\n",
            "2520/2520 [==============================] - 0s 103us/step - loss: 0.0068 - acc: 0.9976 - val_loss: 2.5633 - val_acc: 0.6429\n",
            "Epoch 41/60\n",
            "2520/2520 [==============================] - 0s 103us/step - loss: 0.0034 - acc: 0.9996 - val_loss: 2.6105 - val_acc: 0.6321\n",
            "Epoch 42/60\n",
            "2520/2520 [==============================] - 0s 102us/step - loss: 0.0115 - acc: 0.9948 - val_loss: 2.5224 - val_acc: 0.6321\n",
            "Epoch 43/60\n",
            "2520/2520 [==============================] - 0s 100us/step - loss: 0.0120 - acc: 0.9966 - val_loss: 2.5164 - val_acc: 0.6214\n",
            "Epoch 44/60\n",
            "2520/2520 [==============================] - 0s 103us/step - loss: 0.0580 - acc: 0.9825 - val_loss: 2.3024 - val_acc: 0.6554\n",
            "Epoch 45/60\n",
            "2520/2520 [==============================] - 0s 105us/step - loss: 0.0546 - acc: 0.9823 - val_loss: 1.8425 - val_acc: 0.6411\n",
            "Epoch 46/60\n",
            "2520/2520 [==============================] - 0s 100us/step - loss: 0.0183 - acc: 0.9948 - val_loss: 1.9635 - val_acc: 0.6304\n",
            "Epoch 47/60\n",
            "2520/2520 [==============================] - 0s 103us/step - loss: 0.0099 - acc: 0.9968 - val_loss: 2.0527 - val_acc: 0.6357\n",
            "Epoch 48/60\n",
            "2520/2520 [==============================] - 0s 110us/step - loss: 0.0037 - acc: 0.9988 - val_loss: 2.1961 - val_acc: 0.6482\n",
            "Epoch 49/60\n",
            "2520/2520 [==============================] - 0s 106us/step - loss: 0.0024 - acc: 0.9996 - val_loss: 2.3906 - val_acc: 0.6143\n",
            "Epoch 50/60\n",
            "2520/2520 [==============================] - 0s 108us/step - loss: 0.0032 - acc: 0.9988 - val_loss: 2.4223 - val_acc: 0.6446\n",
            "Epoch 51/60\n",
            "2520/2520 [==============================] - 0s 104us/step - loss: 8.9800e-04 - acc: 1.0000 - val_loss: 2.5204 - val_acc: 0.6250\n",
            "Epoch 52/60\n",
            "2520/2520 [==============================] - 0s 108us/step - loss: 7.8148e-04 - acc: 1.0000 - val_loss: 2.5923 - val_acc: 0.6304\n",
            "Epoch 53/60\n",
            "2520/2520 [==============================] - 0s 114us/step - loss: 0.0013 - acc: 0.9996 - val_loss: 2.6464 - val_acc: 0.6375\n",
            "Epoch 54/60\n",
            "2520/2520 [==============================] - 0s 100us/step - loss: 0.0034 - acc: 0.9984 - val_loss: 2.6433 - val_acc: 0.5964\n",
            "Epoch 55/60\n",
            "2520/2520 [==============================] - 0s 105us/step - loss: 0.0014 - acc: 1.0000 - val_loss: 2.6926 - val_acc: 0.6375\n",
            "Epoch 56/60\n",
            "2520/2520 [==============================] - 0s 102us/step - loss: 4.6694e-04 - acc: 1.0000 - val_loss: 2.7392 - val_acc: 0.6304\n",
            "Epoch 57/60\n",
            "2520/2520 [==============================] - 0s 104us/step - loss: 0.0010 - acc: 0.9998 - val_loss: 2.8019 - val_acc: 0.6304\n",
            "Epoch 58/60\n",
            "2520/2520 [==============================] - 0s 101us/step - loss: 0.0012 - acc: 0.9996 - val_loss: 2.8239 - val_acc: 0.6143\n",
            "Epoch 59/60\n",
            "2520/2520 [==============================] - 0s 101us/step - loss: 4.8118e-04 - acc: 1.0000 - val_loss: 2.8581 - val_acc: 0.6143\n",
            "Epoch 60/60\n",
            "2520/2520 [==============================] - 0s 100us/step - loss: 6.9547e-04 - acc: 0.9996 - val_loss: 2.9217 - val_acc: 0.6179\n"
          ],
          "name": "stdout"
        }
      ]
    },
    {
      "cell_type": "code",
      "metadata": {
        "id": "RIicBTMYEnme",
        "colab_type": "code",
        "outputId": "cac46d97-074d-476e-9857-2da78a9fcf35",
        "colab": {
          "base_uri": "https://localhost:8080/",
          "height": 52
        }
      },
      "source": [
        "loss, accuracy = model.evaluate(review_pad_test, sentiment_test,batch_size=80, verbose=1)\n",
        "print('Accuracy: %f' % (accuracy*100))"
      ],
      "execution_count": 15,
      "outputs": [
        {
          "output_type": "stream",
          "text": [
            "1200/1200 [==============================] - 1s 442us/step\n",
            "Accuracy: 68.125000\n"
          ],
          "name": "stdout"
        }
      ]
    },
    {
      "cell_type": "code",
      "metadata": {
        "id": "GL9oFs6WEru4",
        "colab_type": "code",
        "colab": {}
      },
      "source": [
        "# save model - 파일명에 정확도.\n",
        "\n",
        "#model.save('/content/drive/My Drive/final/padding_mean/56_%.2f.h5' % (accuracy*100))\n"
      ],
      "execution_count": 0,
      "outputs": []
    },
    {
      "cell_type": "markdown",
      "metadata": {
        "id": "rHCGw_ITfPLi",
        "colab_type": "text"
      },
      "source": [
        "https://lsjsj92.tistory.com/353\n",
        "\n",
        "리뷰당 Max 패딩 길이는 긴데. 정작 대부분의 리뷰의 길이는 짧음.\n",
        "같은 레이블(별점)을 갖는 리뷰들을 각각 3~5개?씩 합쳐보는 건 어떤지?\n",
        "\n",
        "\n",
        "=> 우리 리뷰의 경우도  Max=142 길이로 zero 패딩해뒀는데\n",
        "출력해보니 대부분의 리뷰는 XX 두자리수 길이였음.(대략 20~30)\n"
      ]
    }
  ]
}