{
  "nbformat": 4,
  "nbformat_minor": 0,
  "metadata": {
    "colab": {
      "name": "Final Demo.ipynb",
      "provenance": [],
      "collapsed_sections": [],
      "include_colab_link": true
    },
    "kernelspec": {
      "name": "python3",
      "display_name": "Python 3"
    },
    "accelerator": "GPU"
  },
  "cells": [
    {
      "cell_type": "markdown",
      "metadata": {
        "id": "view-in-github",
        "colab_type": "text"
      },
      "source": [
        "<a href=\"https://colab.research.google.com/github/Woori60/Auto-star-rating-tagging-method-using-SNS-review-data/blob/master/Final_Demo.ipynb\" target=\"_parent\"><img src=\"https://colab.research.google.com/assets/colab-badge.svg\" alt=\"Open In Colab\"/></a>"
      ]
    },
    {
      "cell_type": "code",
      "metadata": {
        "id": "mnOdY38DbFjX",
        "colab_type": "code",
        "outputId": "bcb92414-df63-460c-b6f4-9366da0bfed4",
        "colab": {
          "base_uri": "https://localhost:8080/",
          "height": 34
        }
      },
      "source": [
        "from google.colab import drive\n",
        "drive.mount('/content/drive')"
      ],
      "execution_count": 1,
      "outputs": [
        {
          "output_type": "stream",
          "text": [
            "Drive already mounted at /content/drive; to attempt to forcibly remount, call drive.mount(\"/content/drive\", force_remount=True).\n"
          ],
          "name": "stdout"
        }
      ]
    },
    {
      "cell_type": "code",
      "metadata": {
        "id": "q_RIVQWr-jLp",
        "colab_type": "code",
        "outputId": "a57a0fec-60ba-4e31-d526-776e5a686aa5",
        "colab": {
          "base_uri": "https://localhost:8080/",
          "height": 312
        }
      },
      "source": [
        "review1 = \"Perfect Chinese Restaurant has been around for ages, even decades! It is far from Perfect but as a 24 hour business it does survive because where can you get some Chinese food in the middle of the night in Scarborough? But... for sure Perfect will not be the place for me... can I say I rather going to bed on my empty stomach?   Prices here for dim sum is dirt cheap $1.50 for all sizes All Day weekday and weekends are $1.80. The specials are from 7 AM, great if you have to work early.. I don't expect much services in cheap Chinese restaurant. I can live with servers throwing things on our tables. I can stand the plastic table cover where all my plates are sliding everywhere. I can understand that the quality of food will not be as good with the price they are charging! What I cannot stand is lukewarm to room temperature dim sum!   Shrimp Rice Roll - not only cold, the shrimps inside was like hard.  Pan Fried Turnip Cake - cold and oily.  Chicken Feet - lukewarm  Siu Mai - lukewarm  Har Gor- The only one that is tasty and hot. Now I am more than happy to pay more at other dim sum places at least I know my food is hot and steamy.. and I can even complain to the manager if they are not up to par...1.5 stars with 1 star goes to the fact they are open 24/7\"\n",
        "#review1 = \"If you looking for a real sushi experience, go to Yasu.   If you just want to eat salmon sashimi till you full, there are tons of ayce places you can go to on Bloor St.  I am just happy that Ouchi San decided to open Yasu. I have been to his previous restaurant Nigiri-Ya at Leaside it was good but not as good as what he is doing at Yasu now. $80 seems to be steep for sushi but trust me the experience more than worth it!   Fresh fish and seafood from all over the world including Japan, Europe, North America. Each fish is featured as a piece of art in nigiri sushi with just the perfect preparation method and condiments (fresh wasabi, soya sauce, yuzu salt, shiso, ginger....)   Procedure:  - watch the preparation - listen to the explanation - admire my food - smell my food which will further enhance my experience - use my hand and put it my mouth and eat slowly and just let my taste buds dance - making happy noises and smile - Repeat  I was sad that I miss the fresh  Hokkaido Uni but seriously Aburi O-toro, Ankimo, Hokkaido Scallop even Mackerel tasted so good...  I will be back.. I want to be back...   When am I coming back? (let me go check their availability on Yelp reservation!)\"\n",
        "import nltk\n",
        "from nltk.corpus import stopwords\n",
        "from nltk.tokenize import word_tokenize\n",
        "from nltk.tag import pos_tag\n",
        "import re\n",
        "import numpy as np\n",
        "from keras.preprocessing.text import Tokenizer\n",
        "from keras.preprocessing.sequence import pad_sequences\n",
        "\n",
        "nltk.download('punkt')\n",
        "nltk.download('averaged_perceptron_tagger')\n",
        "nltk.download('wordnet')\n",
        "nltk.download('stopwords')\n",
        "\n",
        "remove_list = ['NN', 'IN', 'DT', 'MD', 'TO', 'PR', 'CC', 'WD', 'WP']\n",
        "\n",
        "review1 = review1.lower()\n",
        "word_tokens = word_tokenize(review1)\n",
        "\n",
        "result = []\n",
        "words = []\n",
        "\n",
        "tag_l = pos_tag(word_tokens)\n",
        "\n",
        "for w in tag_l:\n",
        "  if w[1][:2] in remove_list :\n",
        "    continue\n",
        "  else:\n",
        "    words.append(w[0])\n",
        "\n",
        "stop_words = set(stopwords.words('english'))\n",
        "stop_words.update(['\\'re', '\\'d', '\\'t', '\\'ll', '\\'ve', '\\'s','\\'m', '!', '.', ',', '/', '?', '\\\"', '@', '%', '&', '*', '=','(',')','{','}', '-', '--', 'u', '...','$', '#', '*', '@', ':', ';', '[',']','~']) \n",
        "stop_words.remove('not')\n",
        "\n",
        "for w in words:\n",
        "  if w == 'n\\'t':\n",
        "    w = 'not'\n",
        "  if w not in stop_words:\n",
        "    a = re.sub('[^a-zA-Z ]', '', w)\n",
        "    if a != '':\n",
        "      result.append(a) #result에 불용어 제거된 tokens 존재\n",
        "\n",
        "newresult=[]\n",
        "for token in result:\n",
        "  shortword = re.compile(r'\\W*\\b\\w{1,2}\\b')\n",
        "  tk = shortword.sub('', token)\n",
        "  if tk != '':\n",
        "    newresult.append(tk)\n",
        "\n",
        "tmpresult=[]\n",
        "for review in newresult:\n",
        "  if review[:3] != 'www':\n",
        "    tmpresult.append(review)\n",
        "newresult = tmpresult\n",
        "\n",
        "# 길이 14 이상\n",
        "notremove = ['unpretentious', 'unfortunately', 'approximately', 'complimentary', 'uncomfortable','disappointing']\n",
        "lenreview = []\n",
        "for review in newresult:\n",
        "  if len(review) >= 13 and review not in notremove :\n",
        "    continue\n",
        "  else:\n",
        "    lenreview.append(review)\n",
        "\n",
        "newresult = lenreview\n",
        "\n",
        "data1 = newresult\n",
        "    \n",
        "tmp_test=[]\n",
        "\n",
        "if len(data1) > 49:\n",
        "  tmp_test.append(data1[0:49])\n",
        "else:\n",
        "  tmp_test.append(data1)\n",
        "X_test = tmp_test\n",
        "\n",
        "print(len(X_test[0]))\n",
        "print(X_test)\n",
        "tokenizer_obj_test = Tokenizer()\n",
        "tokenizer_obj_test.fit_on_texts(X_test)\n",
        "sequences_test = tokenizer_obj_test.texts_to_sequences(X_test)\n",
        "review_pad_test = pad_sequences(sequences_test, maxlen=49, padding = 'post')\n",
        "#print(review_pad_test)"
      ],
      "execution_count": 2,
      "outputs": [
        {
          "output_type": "stream",
          "text": [
            "Using TensorFlow backend.\n"
          ],
          "name": "stderr"
        },
        {
          "output_type": "display_data",
          "data": {
            "text/html": [
              "<p style=\"color: red;\">\n",
              "The default version of TensorFlow in Colab will soon switch to TensorFlow 2.x.<br>\n",
              "We recommend you <a href=\"https://www.tensorflow.org/guide/migrate\" target=\"_blank\">upgrade</a> now \n",
              "or ensure your notebook will continue to use TensorFlow 1.x via the <code>%tensorflow_version 1.x</code> magic:\n",
              "<a href=\"https://colab.research.google.com/notebooks/tensorflow_version.ipynb\" target=\"_blank\">more info</a>.</p>\n"
            ],
            "text/plain": [
              "<IPython.core.display.HTML object>"
            ]
          },
          "metadata": {
            "tags": []
          }
        },
        {
          "output_type": "stream",
          "text": [
            "[nltk_data] Downloading package punkt to /root/nltk_data...\n",
            "[nltk_data]   Package punkt is already up-to-date!\n",
            "[nltk_data] Downloading package averaged_perceptron_tagger to\n",
            "[nltk_data]     /root/nltk_data...\n",
            "[nltk_data]   Package averaged_perceptron_tagger is already up-to-\n",
            "[nltk_data]       date!\n",
            "[nltk_data] Downloading package wordnet to /root/nltk_data...\n",
            "[nltk_data]   Package wordnet is already up-to-date!\n",
            "[nltk_data] Downloading package stopwords to /root/nltk_data...\n",
            "[nltk_data]   Package stopwords is already up-to-date!\n",
            "49\n",
            "[['perfect', 'chinese', 'even', 'decades', 'far', 'perfect', 'survive', 'get', 'chinese', 'sure', 'not', 'say', 'rather', 'going', 'bed', 'empty', 'dirt', 'cheap', 'great', 'work', 'not', 'expect', 'much', 'cheap', 'chinese', 'live', 'throwing', 'stand', 'sliding', 'everywhere', 'understand', 'not', 'good', 'charging', 'not', 'stand', 'lukewarm', 'dim', 'shrimp', 'not', 'cold', 'like', 'hard', 'pan', 'fried', 'cake', 'oily', 'chicken', 'mai']]\n"
          ],
          "name": "stdout"
        }
      ]
    },
    {
      "cell_type": "code",
      "metadata": {
        "id": "YWkeDBtrHOis",
        "colab_type": "code",
        "outputId": "376b0f7b-3f03-44ca-8ade-17b73048046e",
        "colab": {
          "base_uri": "https://localhost:8080/",
          "height": 670
        }
      },
      "source": [
        "from keras.models import load_model\n",
        "# 2. 모델 불러오기1\n",
        "model = load_model('/content/drive/My Drive/final/model1_85.29.h5')\n",
        "\n",
        "# 3. 모델 사용하기\n",
        "yhat = model.predict_classes(review_pad_test)\n"
      ],
      "execution_count": 3,
      "outputs": [
        {
          "output_type": "stream",
          "text": [
            "WARNING:tensorflow:From /usr/local/lib/python3.6/dist-packages/keras/backend/tensorflow_backend.py:541: The name tf.placeholder is deprecated. Please use tf.compat.v1.placeholder instead.\n",
            "\n",
            "WARNING:tensorflow:From /usr/local/lib/python3.6/dist-packages/keras/backend/tensorflow_backend.py:4432: The name tf.random_uniform is deprecated. Please use tf.random.uniform instead.\n",
            "\n",
            "WARNING:tensorflow:From /usr/local/lib/python3.6/dist-packages/keras/backend/tensorflow_backend.py:4267: The name tf.nn.max_pool is deprecated. Please use tf.nn.max_pool2d instead.\n",
            "\n",
            "WARNING:tensorflow:From /usr/local/lib/python3.6/dist-packages/keras/backend/tensorflow_backend.py:66: The name tf.get_default_graph is deprecated. Please use tf.compat.v1.get_default_graph instead.\n",
            "\n",
            "WARNING:tensorflow:From /usr/local/lib/python3.6/dist-packages/keras/backend/tensorflow_backend.py:148: The name tf.placeholder_with_default is deprecated. Please use tf.compat.v1.placeholder_with_default instead.\n",
            "\n",
            "WARNING:tensorflow:From /usr/local/lib/python3.6/dist-packages/keras/backend/tensorflow_backend.py:3733: calling dropout (from tensorflow.python.ops.nn_ops) with keep_prob is deprecated and will be removed in a future version.\n",
            "Instructions for updating:\n",
            "Please use `rate` instead of `keep_prob`. Rate should be set to `rate = 1 - keep_prob`.\n",
            "WARNING:tensorflow:From /usr/local/lib/python3.6/dist-packages/keras/backend/tensorflow_backend.py:190: The name tf.get_default_session is deprecated. Please use tf.compat.v1.get_default_session instead.\n",
            "\n",
            "WARNING:tensorflow:From /usr/local/lib/python3.6/dist-packages/keras/backend/tensorflow_backend.py:197: The name tf.ConfigProto is deprecated. Please use tf.compat.v1.ConfigProto instead.\n",
            "\n",
            "WARNING:tensorflow:From /usr/local/lib/python3.6/dist-packages/keras/backend/tensorflow_backend.py:203: The name tf.Session is deprecated. Please use tf.compat.v1.Session instead.\n",
            "\n",
            "WARNING:tensorflow:From /usr/local/lib/python3.6/dist-packages/keras/backend/tensorflow_backend.py:207: The name tf.global_variables is deprecated. Please use tf.compat.v1.global_variables instead.\n",
            "\n",
            "WARNING:tensorflow:From /usr/local/lib/python3.6/dist-packages/keras/backend/tensorflow_backend.py:216: The name tf.is_variable_initialized is deprecated. Please use tf.compat.v1.is_variable_initialized instead.\n",
            "\n",
            "WARNING:tensorflow:From /usr/local/lib/python3.6/dist-packages/keras/backend/tensorflow_backend.py:223: The name tf.variables_initializer is deprecated. Please use tf.compat.v1.variables_initializer instead.\n",
            "\n",
            "WARNING:tensorflow:From /usr/local/lib/python3.6/dist-packages/keras/optimizers.py:793: The name tf.train.Optimizer is deprecated. Please use tf.compat.v1.train.Optimizer instead.\n",
            "\n",
            "WARNING:tensorflow:From /usr/local/lib/python3.6/dist-packages/keras/backend/tensorflow_backend.py:3657: The name tf.log is deprecated. Please use tf.math.log instead.\n",
            "\n",
            "WARNING:tensorflow:From /usr/local/lib/python3.6/dist-packages/tensorflow_core/python/ops/nn_impl.py:183: where (from tensorflow.python.ops.array_ops) is deprecated and will be removed in a future version.\n",
            "Instructions for updating:\n",
            "Use tf.where in 2.0, which has the same broadcast rule as np.where\n",
            "WARNING:tensorflow:From /usr/local/lib/python3.6/dist-packages/keras/backend/tensorflow_backend.py:1033: The name tf.assign_add is deprecated. Please use tf.compat.v1.assign_add instead.\n",
            "\n",
            "WARNING:tensorflow:From /usr/local/lib/python3.6/dist-packages/keras/backend/tensorflow_backend.py:1020: The name tf.assign is deprecated. Please use tf.compat.v1.assign instead.\n",
            "\n"
          ],
          "name": "stdout"
        }
      ]
    },
    {
      "cell_type": "code",
      "metadata": {
        "id": "ZRuWOkHBpI8C",
        "colab_type": "code",
        "colab": {
          "base_uri": "https://localhost:8080/",
          "height": 72
        },
        "outputId": "25e39702-1c3a-448b-a5c9-80ec727cc322"
      },
      "source": [
        "print(review1)\n",
        "\n",
        "pre = yhat\n",
        "if pre == 0:\n",
        "  print(\"=> bad review\")\n",
        "else:\n",
        "  print(\"=> good review\")"
      ],
      "execution_count": 4,
      "outputs": [
        {
          "output_type": "stream",
          "text": [
            "perfect chinese restaurant has been around for ages, even decades! it is far from perfect but as a 24 hour business it does survive because where can you get some chinese food in the middle of the night in scarborough? but... for sure perfect will not be the place for me... can i say i rather going to bed on my empty stomach?   prices here for dim sum is dirt cheap $1.50 for all sizes all day weekday and weekends are $1.80. the specials are from 7 am, great if you have to work early.. i don't expect much services in cheap chinese restaurant. i can live with servers throwing things on our tables. i can stand the plastic table cover where all my plates are sliding everywhere. i can understand that the quality of food will not be as good with the price they are charging! what i cannot stand is lukewarm to room temperature dim sum!   shrimp rice roll - not only cold, the shrimps inside was like hard.  pan fried turnip cake - cold and oily.  chicken feet - lukewarm  siu mai - lukewarm  har gor- the only one that is tasty and hot. now i am more than happy to pay more at other dim sum places at least i know my food is hot and steamy.. and i can even complain to the manager if they are not up to par...1.5 stars with 1 star goes to the fact they are open 24/7\n",
            "=> bad review\n"
          ],
          "name": "stdout"
        }
      ]
    }
  ]
}